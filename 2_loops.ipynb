{
  "nbformat": 4,
  "nbformat_minor": 0,
  "metadata": {
    "colab": {
      "provenance": [],
      "authorship_tag": "ABX9TyONxeEjknMkmpYKEsBjT0ea",
      "include_colab_link": true
    },
    "kernelspec": {
      "name": "python3",
      "display_name": "Python 3"
    },
    "language_info": {
      "name": "python"
    }
  },
  "cells": [
    {
      "cell_type": "markdown",
      "metadata": {
        "id": "view-in-github",
        "colab_type": "text"
      },
      "source": [
        "<a href=\"https://colab.research.google.com/github/brendenwest/cis122/blob/main/2_loops.ipynb\" target=\"_parent\"><img src=\"https://colab.research.google.com/assets/colab-badge.svg\" alt=\"Open In Colab\"/></a>"
      ]
    },
    {
      "cell_type": "markdown",
      "source": [
        "# Loops"
      ],
      "metadata": {
        "id": "mhOo2TtLSmuu"
      }
    },
    {
      "cell_type": "markdown",
      "source": [
        "### Reading\n",
        "\n",
        "- https://www.tutorialspoint.com/python/python_loops.htm (through nested loops)\n",
        "\n",
        "**Watch**\n",
        "- https://www.youtube.com/watch?v=qwAFL1597eM (chapter 8)"
      ],
      "metadata": {
        "id": "EZ5LJkcdS44v"
      }
    },
    {
      "cell_type": "markdown",
      "source": [
        "### Basic Loops\n",
        "\n",
        "Loops allow execution of the same code once for each item in a `sequence`. A `basic` (`for`) loop takes this form:\n",
        "\n",
        "```\n",
        "for item in <sequence>:\n",
        "  # commands to execute for each item\n",
        "```\n",
        "\n",
        "Statements in the loops are executed once for each item in a sequence, which can be any valid Python sequence (e.g. range, list, string, etc.)\n",
        "\n",
        "With each loop `iteration`, the value of the next item in the sequence is assigned to a variable for use within the loop.\n",
        "\n",
        "When execution reaches the end of the sequence, the loop stops.\n"
      ],
      "metadata": {
        "id": "ZJCSVDrtJcCK"
      }
    },
    {
      "cell_type": "code",
      "execution_count": null,
      "metadata": {
        "colab": {
          "base_uri": "https://localhost:8080/"
        },
        "id": "yj9qCxrXJNxM",
        "outputId": "e88fc96a-eb52-42d0-f663-a02db19be6b9"
      },
      "outputs": [
        {
          "output_type": "stream",
          "name": "stdout",
          "text": [
            "apple\n",
            "lemon\n",
            "berry\n",
            "0, 1, 2, 3, 4, \n",
            "a - b - r - a - c - a - d - a - b - r - a - "
          ]
        }
      ],
      "source": [
        "fruits = ['apple','lemon','berry']\n",
        "for fruit in fruits:\n",
        "  print(fruit)\n",
        "\n",
        "for num in range(5):\n",
        "  print(num, end=\", \")\n",
        "\n",
        "print()\n",
        "# strings are actually sequences of charaacters\n",
        "for letter in \"abracadabra\":\n",
        "  print(letter, end=\" - \")"
      ]
    },
    {
      "cell_type": "markdown",
      "source": [
        "A loop can use an `accumulator` variable initialized outside the loop."
      ],
      "metadata": {
        "id": "gYAXX-j4LMSk"
      }
    },
    {
      "cell_type": "code",
      "source": [
        "sum = 0\n",
        "for num in range(5):\n",
        "  sum += num\n",
        "\n",
        "print(\"total =\", sum)"
      ],
      "metadata": {
        "colab": {
          "base_uri": "https://localhost:8080/"
        },
        "id": "-hfcAyzkLarp",
        "outputId": "99a4515e-f750-4b59-8f24-cdb87f7d46fa"
      },
      "execution_count": null,
      "outputs": [
        {
          "output_type": "stream",
          "name": "stdout",
          "text": [
            "total = 10\n"
          ]
        }
      ]
    },
    {
      "cell_type": "markdown",
      "source": [
        "### Breaking the loop\n",
        "\n",
        "Programs can interrupt the loop using the `break` command:"
      ],
      "metadata": {
        "id": "z43IlWJFNKsp"
      }
    },
    {
      "cell_type": "code",
      "source": [
        "for num in range(5):\n",
        "  if num > 2:\n",
        "    break\n",
        "  print(num, end=\", \")\n"
      ],
      "metadata": {
        "colab": {
          "base_uri": "https://localhost:8080/"
        },
        "id": "jTbXYm9_NTcR",
        "outputId": "9e4acffd-29d6-4383-eb5e-08e82db1541f"
      },
      "execution_count": null,
      "outputs": [
        {
          "output_type": "stream",
          "name": "stdout",
          "text": [
            "0, 1, 2, "
          ]
        }
      ]
    },
    {
      "cell_type": "markdown",
      "source": [
        "\n",
        "Loops can use a `sentinel` variable to determine when to terminate the loop."
      ],
      "metadata": {
        "id": "PhkcwsysPkuH"
      }
    },
    {
      "cell_type": "code",
      "source": [
        "stop = 5\n",
        "for num in range(10):\n",
        "  print(num, end=\", \")\n",
        "  if num == stop:\n",
        "    break # force early exit from the loop"
      ],
      "metadata": {
        "colab": {
          "base_uri": "https://localhost:8080/"
        },
        "id": "QrqppoHaP2nL",
        "outputId": "687a4230-2110-4c31-f46d-078628cdb606"
      },
      "execution_count": null,
      "outputs": [
        {
          "output_type": "stream",
          "name": "stdout",
          "text": [
            "0, 1, 2, 3, 4, 5, "
          ]
        }
      ]
    },
    {
      "cell_type": "markdown",
      "source": [
        "### Indefinite Loops\n",
        "\n",
        "Indefinite (aka `while`) loops have no specific number of iterations. Instead they run as long as a specified condition is `true`.\n",
        "\n",
        "```\n",
        "while <condition>:\n",
        "  # commands to execute with each iteration\n",
        "```\n",
        "\n",
        "- `condition` can be one or more logical expressions that evalute to `true`\n",
        "- No guarantee how many times loop will execute\n",
        "- Can result in `infinite` loop if condition is never met"
      ],
      "metadata": {
        "id": "QaRaKwOuL0Kb"
      }
    },
    {
      "cell_type": "code",
      "source": [
        "count = 0\n",
        "while count < 5:\n",
        "  print(count, end=\", \")\n",
        "  count += 1 # MAKE SURE the loop will eventually end\n",
        "\n",
        "print('\\ndone')"
      ],
      "metadata": {
        "colab": {
          "base_uri": "https://localhost:8080/"
        },
        "id": "0Km0KmnoPLXd",
        "outputId": "e03e1b74-0632-4966-8b3b-46040feb66b9"
      },
      "execution_count": null,
      "outputs": [
        {
          "output_type": "stream",
          "name": "stdout",
          "text": [
            "0, 1, 2, 3, 4, \n",
            "done\n"
          ]
        }
      ]
    },
    {
      "cell_type": "markdown",
      "source": [
        "### Nested Loops\n",
        "\n",
        "Loops can be nested. The total number times the inner loop is executed is:\n",
        "\n",
        "```\n",
        "number of outer items x number of inner items\n",
        "```"
      ],
      "metadata": {
        "id": "-L87-FyJNxt_"
      }
    },
    {
      "cell_type": "code",
      "source": [
        "print(\"outer x inner =\", len(range(3))*len(range(4)))\n",
        "count=1\n",
        "for num_1 in range(3):   # outer loop\n",
        "  for num_2 in range(4): # inner loop\n",
        "    print(\"#\",count,\"outer\", num_1,\"inner\", num_2)\n",
        "    count +=1\n",
        "  print()"
      ],
      "metadata": {
        "colab": {
          "base_uri": "https://localhost:8080/"
        },
        "id": "4Usp_cDaOB9m",
        "outputId": "430d6894-35ec-4db7-cddb-9838135d570e"
      },
      "execution_count": null,
      "outputs": [
        {
          "output_type": "stream",
          "name": "stdout",
          "text": [
            "outer x inner = 12\n",
            "# 1 outer 0 inner 0\n",
            "# 2 outer 0 inner 1\n",
            "# 3 outer 0 inner 2\n",
            "# 4 outer 0 inner 3\n",
            "\n",
            "# 5 outer 1 inner 0\n",
            "# 6 outer 1 inner 1\n",
            "# 7 outer 1 inner 2\n",
            "# 8 outer 1 inner 3\n",
            "\n",
            "# 9 outer 2 inner 0\n",
            "# 10 outer 2 inner 1\n",
            "# 11 outer 2 inner 2\n",
            "# 12 outer 2 inner 3\n",
            "\n"
          ]
        }
      ]
    },
    {
      "cell_type": "markdown",
      "source": [
        "### Enumerated Loops\n",
        "\n",
        "Python provides a way to keep track of how many iterations the loop has executed."
      ],
      "metadata": {
        "id": "bw1JjZLMQvly"
      }
    },
    {
      "cell_type": "code",
      "source": [
        "fruits = ['apple','lemon','berry']\n",
        "# enumerate returns two values\n",
        "for i, fruit in enumerate(fruits):\n",
        "  print(i, fruit)"
      ],
      "metadata": {
        "colab": {
          "base_uri": "https://localhost:8080/"
        },
        "id": "o0QQHtW9REcJ",
        "outputId": "a4db7286-2a97-408d-8e58-7f1c59a20ba4"
      },
      "execution_count": null,
      "outputs": [
        {
          "output_type": "stream",
          "name": "stdout",
          "text": [
            "0 apple\n",
            "1 lemon\n",
            "2 berry\n"
          ]
        }
      ]
    }
  ]
}