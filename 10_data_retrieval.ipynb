{
  "nbformat": 4,
  "nbformat_minor": 0,
  "metadata": {
    "colab": {
      "provenance": [],
      "authorship_tag": "ABX9TyP0MU7BIGOwwkvdgp50w79N",
      "include_colab_link": true
    },
    "kernelspec": {
      "name": "python3",
      "display_name": "Python 3"
    },
    "language_info": {
      "name": "python"
    }
  },
  "cells": [
    {
      "cell_type": "markdown",
      "metadata": {
        "id": "view-in-github",
        "colab_type": "text"
      },
      "source": [
        "<a href=\"https://colab.research.google.com/github/brendenwest/cis122/blob/main/10_data_retrieval.ipynb\" target=\"_parent\"><img src=\"https://colab.research.google.com/assets/colab-badge.svg\" alt=\"Open In Colab\"/></a>"
      ]
    },
    {
      "cell_type": "markdown",
      "source": [
        "# Fetching Data"
      ],
      "metadata": {
        "id": "cHv-F3Qw214U"
      }
    },
    {
      "cell_type": "markdown",
      "source": [
        "### Reading\n",
        "\n",
        "- https://requests.readthedocs.io/en/latest/user/quickstart/\n",
        "- https://www.tutorialspoint.com/http/index.htm\n",
        "- https://www.w3schools.com/python/python_json.asp"
      ],
      "metadata": {
        "id": "4V6aHT3N3G-p"
      }
    },
    {
      "cell_type": "markdown",
      "source": [
        "### Learning Outcomes\n",
        "- What is data retrieval?\n",
        "- Basics of HTTP requests\n",
        "- Making HTTP requests with Python\n",
        "- Querying databases with Python"
      ],
      "metadata": {
        "id": "pob8DHhu3KZX"
      }
    },
    {
      "cell_type": "markdown",
      "source": [
        "### What is Data Retrieval?\n",
        "\n",
        "Programming often involves retrieving data from a source outside of your program. Commonly, sources are a file, a database, or an `API` (internet service).\n",
        "\n",
        "We previously covered loading data from a file. This doc covers how to fetch data from an internet service or a database with Python."
      ],
      "metadata": {
        "id": "XgjUbpJ2DDgZ"
      }
    },
    {
      "cell_type": "markdown",
      "source": [
        "### HTTP Basics\n",
        "\n",
        "HTTP defines how a client can send a request to a server and what the response should look like.\n",
        "\n",
        "HTTP methods define specific kinds of requests. The most common are:\n",
        "\n",
        "- GET - request data from a server\n",
        "- POST - send data to a server"
      ],
      "metadata": {
        "id": "cxwzH2Pm65Ez"
      }
    },
    {
      "cell_type": "markdown",
      "source": [
        "#### HTTP GET\n",
        "\n",
        "A GET request consists primarily of a `URL` (web address)\n",
        "\n",
        "The URL may contain `query parameters` (name/value pairs) separated by `=` signs, as in this weather forecast example:\n",
        "\n",
        "```\n",
        "api.openweathermap.org/data/2.5/forecast/daily?lat=47.6062&lon=122.3321&cnt=5&appid=12345\n",
        "```"
      ],
      "metadata": {
        "id": "96pkWP6O9XNo"
      }
    },
    {
      "cell_type": "markdown",
      "source": [
        "#### HTTP POST\n",
        "\n",
        "An HTTP POST contains data in request `body`.\n",
        "\n",
        "Because the HTTP protocol limits the size of GET requests, POST is more often used to send large amounts of data to a server - e.g. form sumbissions & file uploades."
      ],
      "metadata": {
        "id": "b8NFrTX19bs1"
      }
    },
    {
      "cell_type": "markdown",
      "source": [
        "#### HTTP Headers\n",
        "\n",
        "Requests & responses include `headers` that inform the receiver about the request or response.\n",
        "\n",
        "An HTTP header consists of its case-insensitive name followed by a colon (:), then by its value.\n",
        "\n",
        "```\n",
        "content-type: application/json; charset=utf-8\n",
        "```"
      ],
      "metadata": {
        "id": "gGqMfrVlB1tT"
      }
    },
    {
      "cell_type": "markdown",
      "source": [
        "#### HTTP Response\n",
        "\n",
        "After receiving an HTTP request, a server should return a well-defined response.\n",
        "\n",
        "The response typically includes:\n",
        "- **status code** - a standard 3-digit integer that informs the receiver on success or failure of the request\n",
        "- **headers** -  additional information about the response (e.g. content size, type, & last modified)\n",
        "- **body** - Can be any data returned from the server"
      ],
      "metadata": {
        "id": "LIFZeer4BfU2"
      }
    },
    {
      "cell_type": "markdown",
      "source": [
        "#### Content Types\n",
        "\n",
        "HTTP servers return data in a defined format that clients should be able to understand.\n",
        "\n",
        "Some common formats for sharing data between applications are:\n",
        "\n",
        "- CSV - Comma-separated values\n",
        "\n",
        "```\n",
        "name, major, gpa\n",
        "jim,art,3.8\n",
        "sue,science,3.75\n",
        "\n",
        "```\n",
        "\n",
        "- JSON - JavaScript Object Notation\n",
        "\n",
        "```\n",
        "[\n",
        "  {\"name\":\"jim\", \"major\":\"art\", \"gpa\": 3.8},\n",
        "  {\"name\":\"sue\", \"major\":\"science\", \"gpa\": 3.75},\n",
        "]\n",
        "\n",
        "```\n",
        "\n",
        "- XML - Extensible Markup Language\n",
        "\n",
        "```\n",
        "<?xml version=\"1.0\" encoding=\"UTF-8\" ?>\n",
        "<root>\n",
        "  <row>\n",
        "    <name>jim</name>\n",
        "    <major>art</major>\n",
        "    <gpa>3.8</gpa>\n",
        "  </row>\n",
        "  <row>\n",
        "    <name>sue</name>\n",
        "    <major>science</major>\n",
        "    <gpa>3.75</gpa>\n",
        "  </row>\n",
        "</root>\n",
        "```"
      ],
      "metadata": {
        "id": "vzn-80amDzmA"
      }
    },
    {
      "cell_type": "markdown",
      "source": [
        "### HTTP Requests with Python"
      ],
      "metadata": {
        "id": "rdbtw17T6_Mh"
      }
    },
    {
      "cell_type": "code",
      "execution_count": null,
      "metadata": {
        "id": "l49ely2Z2z7Z"
      },
      "outputs": [],
      "source": []
    }
  ]
}