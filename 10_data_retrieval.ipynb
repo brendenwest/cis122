{
  "nbformat": 4,
  "nbformat_minor": 0,
  "metadata": {
    "colab": {
      "provenance": [],
      "authorship_tag": "ABX9TyOtDMp/iWv+pXPe8NiKTFJJ",
      "include_colab_link": true
    },
    "kernelspec": {
      "name": "python3",
      "display_name": "Python 3"
    },
    "language_info": {
      "name": "python"
    }
  },
  "cells": [
    {
      "cell_type": "markdown",
      "metadata": {
        "id": "view-in-github",
        "colab_type": "text"
      },
      "source": [
        "<a href=\"https://colab.research.google.com/github/brendenwest/cis122/blob/main/10_data_retrieval.ipynb\" target=\"_parent\"><img src=\"https://colab.research.google.com/assets/colab-badge.svg\" alt=\"Open In Colab\"/></a>"
      ]
    },
    {
      "cell_type": "markdown",
      "source": [
        "# Fetching Data"
      ],
      "metadata": {
        "id": "cHv-F3Qw214U"
      }
    },
    {
      "cell_type": "markdown",
      "source": [
        "### Reading\n",
        "\n",
        "- https://requests.readthedocs.io/en/latest/user/quickstart/\n",
        "- https://www.w3schools.com/tags/ref_httpmethods.asp\n",
        "- https://www.w3schools.com/python/python_json.asp"
      ],
      "metadata": {
        "id": "4V6aHT3N3G-p"
      }
    },
    {
      "cell_type": "markdown",
      "source": [
        "### Learning Outcomes\n",
        "- Basics of HTTP requests\n",
        "- Making HTTP requests with Python\n",
        "- Querying databases with Python"
      ],
      "metadata": {
        "id": "pob8DHhu3KZX"
      }
    },
    {
      "cell_type": "markdown",
      "source": [
        "### HTTP Basics\n",
        "\n",
        "HTTP defines how a client can send a request to a server and what the response should look like.\n",
        "\n",
        "HTTP methods define specific kinds of requests. The most common are:\n",
        "\n",
        "- GET - request data from a server\n",
        "- POST - send data to a server"
      ],
      "metadata": {
        "id": "cxwzH2Pm65Ez"
      }
    },
    {
      "cell_type": "markdown",
      "source": [
        "#### HTTP GET\n",
        "\n",
        "A GET request consists primarily of a `URL` (web address)\n",
        "\n",
        "The URL may contain `query parameters` (name/value pairs) separated by `=` signs, as in this weather forecast example:\n",
        "\n",
        "```\n",
        "api.openweathermap.org/data/2.5/forecast/daily?lat=47.6062&lon=122.3321&cnt=5&appid=12345\n",
        "```"
      ],
      "metadata": {
        "id": "96pkWP6O9XNo"
      }
    },
    {
      "cell_type": "markdown",
      "source": [
        "#### HTTP POST\n",
        "\n",
        "An HTTP POST contains data in request `body`.\n",
        "\n",
        "Because the HTTP protocol limits the size of GET requests, POST is more often used to send large amounts of data to a server - e.g. form sumbissions & file uploades."
      ],
      "metadata": {
        "id": "b8NFrTX19bs1"
      }
    },
    {
      "cell_type": "markdown",
      "source": [
        "#### HTTP Headers\n",
        "\n",
        "Requests & responses include `headers` that inform the receiver about the request or response.\n",
        "\n",
        "An HTTP header consists of its case-insensitive name followed by a colon (:), then by its value.\n",
        "\n",
        "```\n",
        "content-type: application/json; charset=utf-8\n",
        "```"
      ],
      "metadata": {
        "id": "gGqMfrVlB1tT"
      }
    },
    {
      "cell_type": "markdown",
      "source": [
        "#### HTTP Response"
      ],
      "metadata": {
        "id": "LIFZeer4BfU2"
      }
    },
    {
      "cell_type": "markdown",
      "source": [
        "### HTTP Requests with Python"
      ],
      "metadata": {
        "id": "rdbtw17T6_Mh"
      }
    },
    {
      "cell_type": "code",
      "execution_count": null,
      "metadata": {
        "id": "l49ely2Z2z7Z"
      },
      "outputs": [],
      "source": []
    }
  ]
}