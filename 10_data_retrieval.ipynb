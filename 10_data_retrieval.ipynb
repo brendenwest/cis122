{
  "nbformat": 4,
  "nbformat_minor": 0,
  "metadata": {
    "colab": {
      "provenance": [],
      "authorship_tag": "ABX9TyNuX0E7c7LNg1gG5iDsXpkk",
      "include_colab_link": true
    },
    "kernelspec": {
      "name": "python3",
      "display_name": "Python 3"
    },
    "language_info": {
      "name": "python"
    }
  },
  "cells": [
    {
      "cell_type": "markdown",
      "metadata": {
        "id": "view-in-github",
        "colab_type": "text"
      },
      "source": [
        "<a href=\"https://colab.research.google.com/github/brendenwest/cis122/blob/main/10_data_retrieval.ipynb\" target=\"_parent\"><img src=\"https://colab.research.google.com/assets/colab-badge.svg\" alt=\"Open In Colab\"/></a>"
      ]
    },
    {
      "cell_type": "markdown",
      "source": [
        "# Fetching Data"
      ],
      "metadata": {
        "id": "cHv-F3Qw214U"
      }
    },
    {
      "cell_type": "markdown",
      "source": [
        "### Reading\n",
        "\n",
        "- https://requests.readthedocs.io/en/latest/user/quickstart/\n",
        "- https://www.tutorialspoint.com/http/index.htm\n",
        "- https://www.w3schools.com/python/python_json.asp"
      ],
      "metadata": {
        "id": "4V6aHT3N3G-p"
      }
    },
    {
      "cell_type": "markdown",
      "source": [
        "### Learning Outcomes\n",
        "- What is data retrieval?\n",
        "- Basics of HTTP requests\n",
        "- Making HTTP requests with Python\n",
        "- Querying databases with Python"
      ],
      "metadata": {
        "id": "pob8DHhu3KZX"
      }
    },
    {
      "cell_type": "markdown",
      "source": [
        "### What is Data Retrieval?\n",
        "\n",
        "Programming often involves retrieving data from a source outside of your program. Commonly, sources are a file, a database, or an `API` (internet service).\n",
        "\n",
        "We previously covered loading data from a file. This doc covers how to fetch data from an internet service or a database with Python."
      ],
      "metadata": {
        "id": "XgjUbpJ2DDgZ"
      }
    },
    {
      "cell_type": "markdown",
      "source": [
        "### HTTP Basics\n",
        "\n",
        "HTTP defines how a client can send a request to a server and what the response should look like.\n",
        "\n",
        "HTTP methods define specific kinds of requests. The most common are:\n",
        "\n",
        "- GET - request data from a server\n",
        "- POST - send data to a server"
      ],
      "metadata": {
        "id": "cxwzH2Pm65Ez"
      }
    },
    {
      "cell_type": "markdown",
      "source": [
        "#### HTTP GET\n",
        "\n",
        "A GET request consists primarily of a `URL` (web address)\n",
        "\n",
        "The URL may contain `query parameters` (name/value pairs) separated by `=` signs, as in this weather forecast example:\n",
        "\n",
        "```\n",
        "https://api.openweathermap.org/data/2.5/forecast/daily?lat=47.6062&lon=122.3321&cnt=5&appid=12345\n",
        "```"
      ],
      "metadata": {
        "id": "96pkWP6O9XNo"
      }
    },
    {
      "cell_type": "markdown",
      "source": [
        "#### HTTP POST\n",
        "\n",
        "An HTTP POST contains data in request `body`.\n",
        "\n",
        "Because the HTTP protocol limits the size of GET requests, POST is more often used to send large amounts of data to a server - e.g. form sumbissions & file uploades."
      ],
      "metadata": {
        "id": "b8NFrTX19bs1"
      }
    },
    {
      "cell_type": "markdown",
      "source": [
        "#### HTTP Headers\n",
        "\n",
        "Requests & responses include `headers` that inform the receiver about the request or response.\n",
        "\n",
        "An HTTP header consists of its case-insensitive name followed by a colon (:), then by its value.\n",
        "\n",
        "```\n",
        "content-type: application/json; charset=utf-8\n",
        "```"
      ],
      "metadata": {
        "id": "gGqMfrVlB1tT"
      }
    },
    {
      "cell_type": "markdown",
      "source": [
        "#### HTTP Response\n",
        "\n",
        "After receiving an HTTP request, a server should return a well-defined response.\n",
        "\n",
        "The response typically includes:\n",
        "- **status code** - a standard 3-digit integer that informs the receiver on success or failure of the request\n",
        "- **headers** -  additional information about the response (e.g. content size, type, & last modified)\n",
        "- **body** - Can be any data returned from the server"
      ],
      "metadata": {
        "id": "LIFZeer4BfU2"
      }
    },
    {
      "cell_type": "markdown",
      "source": [
        "#### Content Types\n",
        "\n",
        "HTTP servers return data in a defined format that clients should be able to understand.\n",
        "\n",
        "Some common formats for sharing data between applications are below.\n",
        "\n",
        "JSON has become a defacto standard because clients can easily convert JSON data to `objects` that programs can operate on.\n",
        "\n",
        "- CSV - Comma-separated values\n",
        "\n",
        "```\n",
        "name,major,gpa\n",
        "jim,art,3.8\n",
        "sue,science,3.75\n",
        "\n",
        "```\n",
        "\n",
        "- JSON - JavaScript Object Notation\n",
        "\n",
        "```\n",
        "[\n",
        "  {\"name\":\"jim\", \"major\":\"art\", \"gpa\": 3.8},\n",
        "  {\"name\":\"sue\", \"major\":\"science\", \"gpa\": 3.75},\n",
        "]\n",
        "\n",
        "```\n",
        "\n",
        "- XML - Extensible Markup Language\n",
        "\n",
        "```\n",
        "<?xml version=\"1.0\" encoding=\"UTF-8\" ?>\n",
        "<root>\n",
        "  <row>\n",
        "    <name>jim</name>\n",
        "    <major>art</major>\n",
        "    <gpa>3.8</gpa>\n",
        "  </row>\n",
        "  <row>\n",
        "    <name>sue</name>\n",
        "    <major>science</major>\n",
        "    <gpa>3.75</gpa>\n",
        "  </row>\n",
        "</root>\n",
        "```"
      ],
      "metadata": {
        "id": "vzn-80amDzmA"
      }
    },
    {
      "cell_type": "markdown",
      "source": [
        "### HTTP Requests in Python\n",
        "\n",
        "The Python ecosystem has a number of libraries that simplify making an HTTP request. `requests` is the most mature of those.\n",
        "\n",
        "Basic syntax involves defining a `request` object with URL and method. Subsequent commands can retrieve attributes of request, such as `text`, `status code`, etc.\n",
        "\n",
        "The `requests` library performs the HTTP request and exposes the `response` for subsequent commands.\n",
        "\n",
        "The response includes `content` as well as supporting information (e.g. status_code, headers, etc.)"
      ],
      "metadata": {
        "id": "rdbtw17T6_Mh"
      }
    },
    {
      "cell_type": "markdown",
      "source": [
        "#### GET Requests\n",
        "\n",
        "A GET request retrieves data from a server based on the `contract` for what urls and query parameters the server supports.\n",
        "\n",
        "These requests and the necessary commands are relatively simple.\n",
        "\n",
        "Response content can be accessed in several formats:\n",
        "\n",
        "- text - plain text of the response\n",
        "- json() - JSON format (if the content supports this)"
      ],
      "metadata": {
        "id": "AkM7fEg54Tzu"
      }
    },
    {
      "cell_type": "code",
      "execution_count": 5,
      "metadata": {
        "id": "l49ely2Z2z7Z",
        "colab": {
          "base_uri": "https://localhost:8080/"
        },
        "outputId": "b1b72158-4c24-4388-ada9-9e1dcc2efa23"
      },
      "outputs": [
        {
          "output_type": "stream",
          "name": "stdout",
          "text": [
            "status 200\n",
            "headers {'Server': 'nginx', 'Date': 'Wed, 20 Nov 2024 02:31:31 GMT', 'Content-Type': 'application/json;charset=utf-8', 'Transfer-Encoding': 'chunked', 'Connection': 'keep-alive', 'Access-Control-Allow-Origin': '*', 'ETag': '\"Zm94dHJvdC41OTU5N18yXzgyUEFyTEFFVjVpOHJZSFVURHJJZkswVkVJRHRB---gziphBVGxhtvC4TXKQPJpRv8jxRiGP8--gzip--gzip\"', 'X-SODA2-Fields': '[\"department\",\"last_name\",\"first_name\",\"job_title\",\"hourly_rate\"]', 'X-SODA2-Types': '[\"text\",\"text\",\"text\",\"text\",\"text\"]', 'X-SODA2-Data-Out-Of-Date': 'false', 'X-SODA2-Truth-Last-Modified': 'Wed, 31 Jul 2024 16:25:48 GMT', 'X-SODA2-Secondary-Last-Modified': 'Wed, 31 Jul 2024 16:25:48 GMT', 'Last-Modified': 'Wed, 31 Jul 2024 16:25:48 GMT', 'Vary': 'Accept-Encoding', 'Content-Encoding': 'gzip', 'Age': '2', 'X-Socrata-Region': 'aws-us-east-1-fedramp-prod', 'Strict-Transport-Security': 'max-age=31536000; includeSubDomains', 'X-Socrata-RequestId': 'dfeaa60361b3c0d704918ff0505cc4c4'}\n",
            "records 1000\n",
            "{'department': 'Police Department', 'last_name': 'Aagard', 'first_name': 'Lori', 'job_title': 'Pol Capt-Precinct', 'hourly_rate': '112.7'}\n"
          ]
        }
      ],
      "source": [
        "import requests\n",
        "result = requests.get('https://data.seattle.gov/resource/2khk-5ukd.json')\n",
        "print(\"status\", result.status_code)\n",
        "print(\"headers\", result.headers)\n",
        "# convert response body to a Python list\n",
        "data = result.json()\n",
        "print('records', len(data))\n",
        "print(data[0])"
      ]
    },
    {
      "cell_type": "markdown",
      "source": [
        "#### POST Requests\n",
        "\n",
        "As noted above, POST requests are common for sending information to a server (e.g. form submissions, file uploads, etc.)\n",
        "\n",
        "POST `content_type` needs to match what the server expects. Common content_types are `form-encoded` or JSON."
      ],
      "metadata": {
        "id": "vsJ-pR_z4WDX"
      }
    },
    {
      "cell_type": "code",
      "source": [
        "payload = {'key1': 'value1', 'key2': 'value2'}\n",
        "# automatically encode Python dictionary as form data\n",
        "result = requests.post('https://httpbin.org/post', data=payload)\n",
        "print(result.content)"
      ],
      "metadata": {
        "id": "filCUgUu6zfb",
        "outputId": "aff8bd77-9473-4ffa-e569-9ef170751f0c",
        "colab": {
          "base_uri": "https://localhost:8080/"
        }
      },
      "execution_count": 10,
      "outputs": [
        {
          "output_type": "stream",
          "name": "stdout",
          "text": [
            "b'{\\n  \"args\": {}, \\n  \"data\": \"\", \\n  \"files\": {}, \\n  \"form\": {\\n    \"key1\": \"value1\", \\n    \"key2\": \"value2\"\\n  }, \\n  \"headers\": {\\n    \"Accept\": \"*/*\", \\n    \"Accept-Encoding\": \"gzip, deflate\", \\n    \"Content-Length\": \"23\", \\n    \"Content-Type\": \"application/x-www-form-urlencoded\", \\n    \"Host\": \"httpbin.org\", \\n    \"User-Agent\": \"python-requests/2.32.3\", \\n    \"X-Amzn-Trace-Id\": \"Root=1-673d4b6a-4fcf9558576d275b61aca4c6\"\\n  }, \\n  \"json\": null, \\n  \"origin\": \"35.245.247.204\", \\n  \"url\": \"https://httpbin.org/post\"\\n}\\n'\n"
          ]
        }
      ]
    },
    {
      "cell_type": "code",
      "source": [
        "payload = {'key1': 'value1', 'key2': 'value2'}\n",
        "# automatically convert the Python dictionary to a string\n",
        "# and send 'Content-Type: application/json' header\n",
        "result = requests.post('https://httpbin.org/post', json=payload)\n",
        "print(result.content)"
      ],
      "metadata": {
        "id": "g_ozdSzf65Zj",
        "outputId": "10285427-7fc5-4c65-a9c7-d210ced87714",
        "colab": {
          "base_uri": "https://localhost:8080/"
        }
      },
      "execution_count": 9,
      "outputs": [
        {
          "output_type": "stream",
          "name": "stdout",
          "text": [
            "b'{\\n  \"args\": {}, \\n  \"data\": \"{\\\\\"key1\\\\\": \\\\\"value1\\\\\", \\\\\"key2\\\\\": \\\\\"value2\\\\\"}\", \\n  \"files\": {}, \\n  \"form\": {}, \\n  \"headers\": {\\n    \"Accept\": \"*/*\", \\n    \"Accept-Encoding\": \"gzip, deflate\", \\n    \"Content-Length\": \"36\", \\n    \"Content-Type\": \"application/json\", \\n    \"Host\": \"httpbin.org\", \\n    \"User-Agent\": \"python-requests/2.32.3\", \\n    \"X-Amzn-Trace-Id\": \"Root=1-673d4b66-561af7945c5ad5fc4797298b\"\\n  }, \\n  \"json\": {\\n    \"key1\": \"value1\", \\n    \"key2\": \"value2\"\\n  }, \\n  \"origin\": \"35.245.247.204\", \\n  \"url\": \"https://httpbin.org/post\"\\n}\\n'\n"
          ]
        }
      ]
    }
  ]
}