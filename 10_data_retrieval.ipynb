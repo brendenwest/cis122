{
  "nbformat": 4,
  "nbformat_minor": 0,
  "metadata": {
    "colab": {
      "provenance": [],
      "authorship_tag": "ABX9TyMABevbsXIkVPxra50gjkuc",
      "include_colab_link": true
    },
    "kernelspec": {
      "name": "python3",
      "display_name": "Python 3"
    },
    "language_info": {
      "name": "python"
    }
  },
  "cells": [
    {
      "cell_type": "markdown",
      "metadata": {
        "id": "view-in-github",
        "colab_type": "text"
      },
      "source": [
        "<a href=\"https://colab.research.google.com/github/brendenwest/cis122/blob/main/10_data_retrieval.ipynb\" target=\"_parent\"><img src=\"https://colab.research.google.com/assets/colab-badge.svg\" alt=\"Open In Colab\"/></a>"
      ]
    },
    {
      "cell_type": "markdown",
      "source": [
        "# Fetching Data"
      ],
      "metadata": {
        "id": "cHv-F3Qw214U"
      }
    },
    {
      "cell_type": "markdown",
      "source": [
        "### Reading"
      ],
      "metadata": {
        "id": "4V6aHT3N3G-p"
      }
    },
    {
      "cell_type": "markdown",
      "source": [
        "### Learning Outcomes"
      ],
      "metadata": {
        "id": "pob8DHhu3KZX"
      }
    },
    {
      "cell_type": "code",
      "execution_count": null,
      "metadata": {
        "id": "l49ely2Z2z7Z"
      },
      "outputs": [],
      "source": []
    }
  ]
}