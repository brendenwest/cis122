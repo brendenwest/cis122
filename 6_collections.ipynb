{
  "nbformat": 4,
  "nbformat_minor": 0,
  "metadata": {
    "colab": {
      "provenance": [],
      "authorship_tag": "ABX9TyMnDYfm5qX7JFJHENI/OdDl",
      "include_colab_link": true
    },
    "kernelspec": {
      "name": "python3",
      "display_name": "Python 3"
    },
    "language_info": {
      "name": "python"
    }
  },
  "cells": [
    {
      "cell_type": "markdown",
      "metadata": {
        "id": "view-in-github",
        "colab_type": "text"
      },
      "source": [
        "<a href=\"https://colab.research.google.com/github/brendenwest/cis122/blob/main/6_collections.ipynb\" target=\"_parent\"><img src=\"https://colab.research.google.com/assets/colab-badge.svg\" alt=\"Open In Colab\"/></a>"
      ]
    },
    {
      "cell_type": "markdown",
      "source": [
        "# Collections"
      ],
      "metadata": {
        "id": "ABA4aQM8arDz"
      }
    },
    {
      "cell_type": "markdown",
      "source": [
        "### Reading\n",
        "- https://www.tutorialspoint.com/python/python_lists.htm\n",
        "- https://www.tutorialspoint.com/python/python_dictionary.htm\n",
        "- https://www.tutorialspoint.com/python/python_tuples.htm\n",
        "- https://www.tutorialspoint.com/python/python_sets.htm\n",
        "\n",
        "### Learning Outcomes\n",
        "- List basics & methods\n",
        "- Tuples\n",
        "- Dictionaries\n",
        "- Sorting\n",
        "- Sets\n",
        "\n"
      ],
      "metadata": {
        "id": "p7cCDt2kavQR"
      }
    },
    {
      "cell_type": "markdown",
      "source": [
        "### Lists\n",
        "\n",
        "- Python lists are sequences\n",
        "- Python lists are similar to ‘arrays’ in other languages\n",
        "- Lists are defined with brackets:"
      ],
      "metadata": {
        "id": "s2LG7JQebqkW"
      }
    },
    {
      "cell_type": "code",
      "execution_count": 1,
      "metadata": {
        "id": "RSVfQbVdaedX"
      },
      "outputs": [],
      "source": [
        "mylist = [1,2,3,4]\n",
        "emptylist = []"
      ]
    },
    {
      "cell_type": "markdown",
      "source": [
        "**Data types:** Python list can contain any valid Python data type:"
      ],
      "metadata": {
        "id": "oLczPftJb4_A"
      }
    },
    {
      "cell_type": "code",
      "source": [
        "mylist = ['dog',2,True]"
      ],
      "metadata": {
        "id": "MxNqHgW1b7-G"
      },
      "execution_count": 4,
      "outputs": []
    },
    {
      "cell_type": "markdown",
      "source": [
        "**Indexing:** List items can be accessed by index. Indices start at zero:"
      ],
      "metadata": {
        "id": "TRc5G60cb-4U"
      }
    },
    {
      "cell_type": "code",
      "source": [
        "print(mylist[0])\n",
        "mylist[0] = 'cat'\n",
        "mylist[0]"
      ],
      "metadata": {
        "colab": {
          "base_uri": "https://localhost:8080/",
          "height": 53
        },
        "id": "_xsqxqx1cBUl",
        "outputId": "82434046-5a5e-4713-f276-321aa43624d2"
      },
      "execution_count": 5,
      "outputs": [
        {
          "output_type": "stream",
          "name": "stdout",
          "text": [
            "dog\n"
          ]
        },
        {
          "output_type": "execute_result",
          "data": {
            "text/plain": [
              "'cat'"
            ],
            "application/vnd.google.colaboratory.intrinsic+json": {
              "type": "string"
            }
          },
          "metadata": {},
          "execution_count": 5
        }
      ]
    },
    {
      "cell_type": "markdown",
      "source": [
        "**Slicing:** List items can be accessed by slicing"
      ],
      "metadata": {
        "id": "y0thfzFScO8M"
      }
    },
    {
      "cell_type": "code",
      "source": [
        "mylist[1:2]"
      ],
      "metadata": {
        "colab": {
          "base_uri": "https://localhost:8080/"
        },
        "id": "4ru8HaBkcuE4",
        "outputId": "10f36e54-7908-403c-b0d0-933ca6d6993e"
      },
      "execution_count": 6,
      "outputs": [
        {
          "output_type": "execute_result",
          "data": {
            "text/plain": [
              "[2]"
            ]
          },
          "metadata": {},
          "execution_count": 6
        }
      ]
    },
    {
      "cell_type": "markdown",
      "source": [
        "**Deletion** - List items can be removed with the Python `del` method:"
      ],
      "metadata": {
        "id": "qlTMQLXKc7ZO"
      }
    },
    {
      "cell_type": "code",
      "source": [
        "mylist = [1,2,3,4,5]\n",
        "del mylist[0]\n",
        "print(mylist)"
      ],
      "metadata": {
        "colab": {
          "base_uri": "https://localhost:8080/"
        },
        "id": "CWlHnYrTdIws",
        "outputId": "b039e657-ac3d-450d-b099-4a9383f48a96"
      },
      "execution_count": 10,
      "outputs": [
        {
          "output_type": "stream",
          "name": "stdout",
          "text": [
            "[2, 3, 4, 5]\n"
          ]
        }
      ]
    },
    {
      "cell_type": "markdown",
      "source": [
        "**Length** - lists have length"
      ],
      "metadata": {
        "id": "Fjgc0N0AdWfX"
      }
    },
    {
      "cell_type": "code",
      "source": [
        "list1 = ['a','b','c']\n",
        "len(list1)"
      ],
      "metadata": {
        "colab": {
          "base_uri": "https://localhost:8080/"
        },
        "id": "pehSfZjjdcM9",
        "outputId": "dce82408-cc3f-48f5-8646-972a6db9f5db"
      },
      "execution_count": 11,
      "outputs": [
        {
          "output_type": "execute_result",
          "data": {
            "text/plain": [
              "3"
            ]
          },
          "metadata": {},
          "execution_count": 11
        }
      ]
    }
  ]
}