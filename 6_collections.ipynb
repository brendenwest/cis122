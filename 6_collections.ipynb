{
  "nbformat": 4,
  "nbformat_minor": 0,
  "metadata": {
    "colab": {
      "provenance": [],
      "authorship_tag": "ABX9TyPY8iCrTjUq6HiSit5uPu8n",
      "include_colab_link": true
    },
    "kernelspec": {
      "name": "python3",
      "display_name": "Python 3"
    },
    "language_info": {
      "name": "python"
    }
  },
  "cells": [
    {
      "cell_type": "markdown",
      "metadata": {
        "id": "view-in-github",
        "colab_type": "text"
      },
      "source": [
        "<a href=\"https://colab.research.google.com/github/brendenwest/cis122/blob/main/6_collections.ipynb\" target=\"_parent\"><img src=\"https://colab.research.google.com/assets/colab-badge.svg\" alt=\"Open In Colab\"/></a>"
      ]
    },
    {
      "cell_type": "markdown",
      "source": [
        "# Collections"
      ],
      "metadata": {
        "id": "ABA4aQM8arDz"
      }
    },
    {
      "cell_type": "markdown",
      "source": [
        "### Reading\n",
        "- https://www.tutorialspoint.com/python/python_lists.htm\n",
        "- https://www.tutorialspoint.com/python/python_dictionary.htm\n",
        "- https://www.tutorialspoint.com/python/python_tuples.htm\n",
        "- https://www.tutorialspoint.com/python/python_sets.htm\n",
        "\n",
        "### Learning Outcomes\n",
        "- List basics & methods\n",
        "- Tuples\n",
        "- Dictionaries\n",
        "- Sorting\n",
        "- Sets\n",
        "\n"
      ],
      "metadata": {
        "id": "p7cCDt2kavQR"
      }
    },
    {
      "cell_type": "markdown",
      "source": [
        "### Collections\n",
        "\n",
        "Python supports `collections` of data that contain multiple values.\n",
        "\n",
        "Collections can be `sequences` of similar values (aka lists) or more complex structures."
      ],
      "metadata": {
        "id": "Z12C21Y0eIsG"
      }
    },
    {
      "cell_type": "markdown",
      "source": [
        "### Lists\n",
        "\n",
        "- Python lists are sequences\n",
        "- Python lists are similar to ‘arrays’ in other languages\n",
        "- Lists are defined with brackets:"
      ],
      "metadata": {
        "id": "s2LG7JQebqkW"
      }
    },
    {
      "cell_type": "code",
      "execution_count": null,
      "metadata": {
        "id": "RSVfQbVdaedX"
      },
      "outputs": [],
      "source": [
        "mylist = [1,2,3,4]\n",
        "emptylist = []"
      ]
    },
    {
      "cell_type": "markdown",
      "source": [
        "**Data types:** Python list can contain any valid Python data type:"
      ],
      "metadata": {
        "id": "oLczPftJb4_A"
      }
    },
    {
      "cell_type": "code",
      "source": [
        "mylist = ['dog',2,True]"
      ],
      "metadata": {
        "id": "MxNqHgW1b7-G"
      },
      "execution_count": null,
      "outputs": []
    },
    {
      "cell_type": "markdown",
      "source": [
        "**Indexing:** List items can be accessed by index. Indices start at zero:"
      ],
      "metadata": {
        "id": "TRc5G60cb-4U"
      }
    },
    {
      "cell_type": "code",
      "source": [
        "print(mylist[0])\n",
        "mylist[0] = 'cat'\n",
        "mylist[0]"
      ],
      "metadata": {
        "colab": {
          "base_uri": "https://localhost:8080/",
          "height": 53
        },
        "id": "_xsqxqx1cBUl",
        "outputId": "82434046-5a5e-4713-f276-321aa43624d2"
      },
      "execution_count": null,
      "outputs": [
        {
          "output_type": "stream",
          "name": "stdout",
          "text": [
            "dog\n"
          ]
        },
        {
          "output_type": "execute_result",
          "data": {
            "text/plain": [
              "'cat'"
            ],
            "application/vnd.google.colaboratory.intrinsic+json": {
              "type": "string"
            }
          },
          "metadata": {},
          "execution_count": 5
        }
      ]
    },
    {
      "cell_type": "markdown",
      "source": [
        "**Slicing:** List items can be accessed by slicing"
      ],
      "metadata": {
        "id": "y0thfzFScO8M"
      }
    },
    {
      "cell_type": "code",
      "source": [
        "mylist[1:2]"
      ],
      "metadata": {
        "colab": {
          "base_uri": "https://localhost:8080/"
        },
        "id": "4ru8HaBkcuE4",
        "outputId": "10f36e54-7908-403c-b0d0-933ca6d6993e"
      },
      "execution_count": null,
      "outputs": [
        {
          "output_type": "execute_result",
          "data": {
            "text/plain": [
              "[2]"
            ]
          },
          "metadata": {},
          "execution_count": 6
        }
      ]
    },
    {
      "cell_type": "markdown",
      "source": [
        "**Deletion** - List items can be removed with the Python `del` method:"
      ],
      "metadata": {
        "id": "qlTMQLXKc7ZO"
      }
    },
    {
      "cell_type": "code",
      "source": [
        "mylist = [1,2,3,4,5]\n",
        "del mylist[0]\n",
        "print(mylist)"
      ],
      "metadata": {
        "colab": {
          "base_uri": "https://localhost:8080/"
        },
        "id": "CWlHnYrTdIws",
        "outputId": "b039e657-ac3d-450d-b099-4a9383f48a96"
      },
      "execution_count": null,
      "outputs": [
        {
          "output_type": "stream",
          "name": "stdout",
          "text": [
            "[2, 3, 4, 5]\n"
          ]
        }
      ]
    },
    {
      "cell_type": "markdown",
      "source": [
        "**Length** - lists have length"
      ],
      "metadata": {
        "id": "Fjgc0N0AdWfX"
      }
    },
    {
      "cell_type": "code",
      "source": [
        "list1 = ['a','b','c']\n",
        "len(list1)"
      ],
      "metadata": {
        "colab": {
          "base_uri": "https://localhost:8080/"
        },
        "id": "pehSfZjjdcM9",
        "outputId": "dce82408-cc3f-48f5-8646-972a6db9f5db"
      },
      "execution_count": null,
      "outputs": [
        {
          "output_type": "execute_result",
          "data": {
            "text/plain": [
              "3"
            ]
          },
          "metadata": {},
          "execution_count": 11
        }
      ]
    },
    {
      "cell_type": "markdown",
      "source": [
        "**Iteration** - programs can operate on each item in a list, one at a time"
      ],
      "metadata": {
        "id": "q5xtrbZkfNny"
      }
    },
    {
      "cell_type": "code",
      "source": [
        "for item in list1:\n",
        "  print(item)\n",
        "\n",
        "for i, item in enumerate(list1):\n",
        "  print(i, item)"
      ],
      "metadata": {
        "colab": {
          "base_uri": "https://localhost:8080/"
        },
        "id": "ffN_7OpLfT0H",
        "outputId": "b7dc3a89-6c63-4a9b-cc8d-8e5701799a04"
      },
      "execution_count": null,
      "outputs": [
        {
          "output_type": "stream",
          "name": "stdout",
          "text": [
            "a\n",
            "b\n",
            "c\n",
            "0 a\n",
            "1 b\n",
            "2 c\n"
          ]
        }
      ]
    },
    {
      "cell_type": "markdown",
      "source": [
        "**Membership** - programs can check if a list contains a value"
      ],
      "metadata": {
        "id": "Y3NQsfw8fbn2"
      }
    },
    {
      "cell_type": "code",
      "source": [
        "list1 = ['a','b','c']\n",
        "'a' in list1"
      ],
      "metadata": {
        "colab": {
          "base_uri": "https://localhost:8080/"
        },
        "id": "zNsarN-EfkVr",
        "outputId": "d1f6061d-954c-46f0-c20b-5a72ba66ad25"
      },
      "execution_count": null,
      "outputs": [
        {
          "output_type": "execute_result",
          "data": {
            "text/plain": [
              "True"
            ]
          },
          "metadata": {},
          "execution_count": 14
        }
      ]
    },
    {
      "cell_type": "markdown",
      "source": [
        "Other built-in Python methods relevant for lists:\n",
        "- max(<list>)\n",
        "- min(<list>)\n",
        "- cmp(<list1>, <list2>)\n",
        "- list<tuple>) - converts a tuple to a list"
      ],
      "metadata": {
        "id": "UIsFqRv2f1Yw"
      }
    },
    {
      "cell_type": "markdown",
      "source": [
        "### List methods\n",
        "\n",
        "Python has a number of methods specific to lists:\n",
        "\n",
        "- <list>.append() - add element to END of list\n",
        "- <list>.sort(<function>) - sort the list.\n",
        "- <list>.reverse() - reverse the list\n",
        "- <list>.index(x) - return the index of the first occurrence of x\n",
        "- <list>.insert(i, x) - insert element x into the list at index i\n",
        "- <list.count(x) - returns the number of occurrences of x in the list\n",
        "- <list>.remove(x) - delete the first occurrence of x in the list\n",
        "- <list>.pop(i) - deletes the ith element from the list and returns its value"
      ],
      "metadata": {
        "id": "XeDZ0YqKf_Qt"
      }
    },
    {
      "cell_type": "markdown",
      "source": [
        "### Tuples\n",
        "- read-only sequence. items can't be modified\n",
        "- defined with parens instead of brackets\n",
        "- similar behavior as lists"
      ],
      "metadata": {
        "id": "hPlpfb5sgU68"
      }
    },
    {
      "cell_type": "markdown",
      "source": [
        "### Dictionaries\n",
        "\n",
        "- Similar to hashes or associative arrays in other languages\n",
        "- Data are stored as `key-value pairs`\n",
        "- values are `mapped` to unique keys\n",
        "- keys must be strings\n",
        "- Values can be any valid Python data type\n",
        "- Key-value pairs not stored in any order (**very important**)"
      ],
      "metadata": {
        "id": "O4zu7Tf8g0Ui"
      }
    }
  ]
}