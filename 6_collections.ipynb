{
  "nbformat": 4,
  "nbformat_minor": 0,
  "metadata": {
    "colab": {
      "provenance": [],
      "authorship_tag": "ABX9TyMxRGzFkyzb10K6iyc66p2z",
      "include_colab_link": true
    },
    "kernelspec": {
      "name": "python3",
      "display_name": "Python 3"
    },
    "language_info": {
      "name": "python"
    }
  },
  "cells": [
    {
      "cell_type": "markdown",
      "metadata": {
        "id": "view-in-github",
        "colab_type": "text"
      },
      "source": [
        "<a href=\"https://colab.research.google.com/github/brendenwest/cis122/blob/main/6_collections.ipynb\" target=\"_parent\"><img src=\"https://colab.research.google.com/assets/colab-badge.svg\" alt=\"Open In Colab\"/></a>"
      ]
    },
    {
      "cell_type": "markdown",
      "source": [
        "# Collections"
      ],
      "metadata": {
        "id": "ABA4aQM8arDz"
      }
    },
    {
      "cell_type": "markdown",
      "source": [
        "### Reading\n",
        "- https://www.tutorialspoint.com/python/python_lists.htm\n",
        "- https://allendowney.github.io/ThinkPython/chap09.html\n",
        "- https://www.tutorialspoint.com/python/python_dictionary.htm\n",
        "- https://allendowney.github.io/ThinkPython/chap10.html\n",
        "- https://www.tutorialspoint.com/python/python_tuples.htm\n",
        "- https://www.tutorialspoint.com/python/python_sets.htm\n",
        "\n",
        "### Learning Outcomes\n",
        "- List basics & methods\n",
        "- Tuples\n",
        "- Dictionaries\n",
        "- Sorting\n",
        "- Sets\n",
        "\n"
      ],
      "metadata": {
        "id": "p7cCDt2kavQR"
      }
    },
    {
      "cell_type": "markdown",
      "source": [
        "### Collections\n",
        "\n",
        "Python supports `collections` of data that contain multiple values.\n",
        "\n",
        "Collections can be `sequences` of similar values (aka lists) or more complex structures."
      ],
      "metadata": {
        "id": "Z12C21Y0eIsG"
      }
    },
    {
      "cell_type": "markdown",
      "source": [
        "### Lists\n",
        "\n",
        "- Python lists are sequences\n",
        "- Python lists are similar to ‘arrays’ in other languages\n",
        "- Lists are defined with brackets:"
      ],
      "metadata": {
        "id": "s2LG7JQebqkW"
      }
    },
    {
      "cell_type": "code",
      "execution_count": 2,
      "metadata": {
        "id": "RSVfQbVdaedX"
      },
      "outputs": [],
      "source": [
        "mylist = [1,2,3,4]\n",
        "emptylist = []\n",
        "word = \"abcdef\"\n",
        "numbers = range(10)"
      ]
    },
    {
      "cell_type": "markdown",
      "source": [
        "**Data types:** Python list can contain any valid Python data type:"
      ],
      "metadata": {
        "id": "oLczPftJb4_A"
      }
    },
    {
      "cell_type": "code",
      "source": [
        "mylist = ['dog',2,True]"
      ],
      "metadata": {
        "id": "MxNqHgW1b7-G"
      },
      "execution_count": 3,
      "outputs": []
    },
    {
      "cell_type": "markdown",
      "source": [
        "**Indexing:** List items can be accessed by index. Indices start at zero:"
      ],
      "metadata": {
        "id": "TRc5G60cb-4U"
      }
    },
    {
      "cell_type": "code",
      "source": [
        "print(mylist[0])\n",
        "mylist[0] = 'cat'\n",
        "mylist[0]"
      ],
      "metadata": {
        "colab": {
          "base_uri": "https://localhost:8080/",
          "height": 53
        },
        "id": "_xsqxqx1cBUl",
        "outputId": "f511fc1e-9f76-48d5-9664-2d4b950cac69"
      },
      "execution_count": 8,
      "outputs": [
        {
          "output_type": "stream",
          "name": "stdout",
          "text": [
            "cat\n"
          ]
        },
        {
          "output_type": "execute_result",
          "data": {
            "text/plain": [
              "'cat'"
            ],
            "application/vnd.google.colaboratory.intrinsic+json": {
              "type": "string"
            }
          },
          "metadata": {},
          "execution_count": 8
        }
      ]
    },
    {
      "cell_type": "markdown",
      "source": [
        "**Slicing:** List items can be accessed by slicing"
      ],
      "metadata": {
        "id": "y0thfzFScO8M"
      }
    },
    {
      "cell_type": "code",
      "source": [
        "mylist[1:3]\n",
        "mylist[:3]"
      ],
      "metadata": {
        "colab": {
          "base_uri": "https://localhost:8080/"
        },
        "id": "4ru8HaBkcuE4",
        "outputId": "1a00f699-9900-400f-a69f-c744ddc7b767"
      },
      "execution_count": 6,
      "outputs": [
        {
          "output_type": "execute_result",
          "data": {
            "text/plain": [
              "['dog', 2, True]"
            ]
          },
          "metadata": {},
          "execution_count": 6
        }
      ]
    },
    {
      "cell_type": "markdown",
      "source": [
        "**Deletion** - List items can be removed with the Python `del` method:"
      ],
      "metadata": {
        "id": "qlTMQLXKc7ZO"
      }
    },
    {
      "cell_type": "code",
      "source": [
        "mylist = [1,2,3,4,5]\n",
        "del mylist[1:3]\n",
        "print(mylist)"
      ],
      "metadata": {
        "colab": {
          "base_uri": "https://localhost:8080/"
        },
        "id": "CWlHnYrTdIws",
        "outputId": "d4d89b46-d909-4495-a442-f903c1b69a52"
      },
      "execution_count": 9,
      "outputs": [
        {
          "output_type": "stream",
          "name": "stdout",
          "text": [
            "[1, 4, 5]\n"
          ]
        }
      ]
    },
    {
      "cell_type": "markdown",
      "source": [
        "**Length** - lists have length"
      ],
      "metadata": {
        "id": "Fjgc0N0AdWfX"
      }
    },
    {
      "cell_type": "code",
      "source": [
        "list1 = ['a','b','c']\n",
        "len(list1)"
      ],
      "metadata": {
        "colab": {
          "base_uri": "https://localhost:8080/"
        },
        "id": "pehSfZjjdcM9",
        "outputId": "dce82408-cc3f-48f5-8646-972a6db9f5db"
      },
      "execution_count": null,
      "outputs": [
        {
          "output_type": "execute_result",
          "data": {
            "text/plain": [
              "3"
            ]
          },
          "metadata": {},
          "execution_count": 11
        }
      ]
    },
    {
      "cell_type": "markdown",
      "source": [
        "**Iteration** - programs can operate on each item in a list, one at a time"
      ],
      "metadata": {
        "id": "q5xtrbZkfNny"
      }
    },
    {
      "cell_type": "code",
      "source": [
        "for item in list1:\n",
        "  print(item)\n",
        "\n",
        "for i, item in enumerate(list1):\n",
        "  print(i, item)"
      ],
      "metadata": {
        "colab": {
          "base_uri": "https://localhost:8080/"
        },
        "id": "ffN_7OpLfT0H",
        "outputId": "b7dc3a89-6c63-4a9b-cc8d-8e5701799a04"
      },
      "execution_count": null,
      "outputs": [
        {
          "output_type": "stream",
          "name": "stdout",
          "text": [
            "a\n",
            "b\n",
            "c\n",
            "0 a\n",
            "1 b\n",
            "2 c\n"
          ]
        }
      ]
    },
    {
      "cell_type": "markdown",
      "source": [
        "**Membership** - programs can check if a list contains a value"
      ],
      "metadata": {
        "id": "Y3NQsfw8fbn2"
      }
    },
    {
      "cell_type": "code",
      "source": [
        "vowels = 'aeiou'\n",
        "'ae' in vowels"
      ],
      "metadata": {
        "colab": {
          "base_uri": "https://localhost:8080/"
        },
        "id": "zNsarN-EfkVr",
        "outputId": "c531bfce-b907-456a-fc51-9c6b4e7e674b"
      },
      "execution_count": 13,
      "outputs": [
        {
          "output_type": "execute_result",
          "data": {
            "text/plain": [
              "True"
            ]
          },
          "metadata": {},
          "execution_count": 13
        }
      ]
    },
    {
      "cell_type": "markdown",
      "source": [
        "Other built-in Python methods relevant for lists:\n",
        "- max(\\<list>)\n",
        "- min(\\<list>)\n",
        "- cmp(\\<list1>, \\<list2>)\n",
        "- list(\\<tuple>) - converts a tuple to a list"
      ],
      "metadata": {
        "id": "UIsFqRv2f1Yw"
      }
    },
    {
      "cell_type": "markdown",
      "source": [
        "### List methods\n",
        "\n",
        "Python has a number of methods specific to lists:\n",
        "\n",
        "- <list>.append() - add element to END of list\n",
        "- <list>.sort(<function>) - sort the list.\n",
        "- <list>.reverse() - reverse the list\n",
        "- <list>.index(x) - return the index of the first occurrence of x\n",
        "- <list>.insert(i, x) - insert element x into the list at index i\n",
        "- <list>.count(x) - returns the number of occurrences of x in the list\n",
        "- <list>.remove(x) - delete the first occurrence of x in the list\n",
        "- <list>.pop(i) - deletes the ith element from the list and returns its value"
      ],
      "metadata": {
        "id": "XeDZ0YqKf_Qt"
      }
    },
    {
      "cell_type": "code",
      "source": [
        "names = ['able','bob','cindy','Andrew']\n",
        "names.sort()\n",
        "name = names.pop(2)\n",
        "print(names, name)"
      ],
      "metadata": {
        "id": "6wF8CkBT8SHo",
        "outputId": "0b8b1060-049c-496e-d791-067a5423e607",
        "colab": {
          "base_uri": "https://localhost:8080/"
        }
      },
      "execution_count": 18,
      "outputs": [
        {
          "output_type": "stream",
          "name": "stdout",
          "text": [
            "['Andrew', 'able', 'cindy'] bob\n"
          ]
        }
      ]
    },
    {
      "cell_type": "markdown",
      "source": [
        "### Tuples\n",
        "- read-only sequence. items can't be modified\n",
        "- defined with parens instead of brackets\n",
        "- similar behavior as lists"
      ],
      "metadata": {
        "id": "hPlpfb5sgU68"
      }
    },
    {
      "cell_type": "markdown",
      "source": [
        "### Dictionaries\n",
        "\n",
        "- Similar to hashes or associative arrays in other languages\n",
        "- Data are stored as `key-value pairs`\n",
        "- values are `mapped` to unique keys\n",
        "- keys must be strings\n",
        "- Values can be any valid Python data type"
      ],
      "metadata": {
        "id": "O4zu7Tf8g0Ui"
      }
    },
    {
      "cell_type": "code",
      "source": [
        "student = { 'name' : 'sara', 'age': 23 }"
      ],
      "metadata": {
        "id": "iQTcebP-imTS"
      },
      "execution_count": 19,
      "outputs": []
    },
    {
      "cell_type": "markdown",
      "source": [
        "Key-value pairs not stored in any order (**very important**)\n",
        "\n",
        "So dictionary values have NO sequence or index.\n",
        "\n",
        "Instead values are retrieved by `key`;"
      ],
      "metadata": {
        "id": "97N7tPNWi0ST"
      }
    },
    {
      "cell_type": "code",
      "source": [
        "print(student[\"name\"])\n",
        "print(student.get(\"major\",\"Gen Ed\"))"
      ],
      "metadata": {
        "colab": {
          "base_uri": "https://localhost:8080/"
        },
        "id": "QdYLF7r-jI4A",
        "outputId": "b3b6fdf8-fdf7-4301-85de-e3b1c56f0a8a"
      },
      "execution_count": 24,
      "outputs": [
        {
          "output_type": "stream",
          "name": "stdout",
          "text": [
            "sara\n",
            "Gen Ed\n"
          ]
        }
      ]
    },
    {
      "cell_type": "markdown",
      "source": [
        "**Dictionary methods**\n",
        "\n",
        "- \\<key> in \\<dict> - returns True if \\<key> is in \\<dict>\n",
        "- \\<dict>.keys() - return a sequence of keys\n",
        "- \\<dict>.values() - return a sequence of values\n",
        "- \\<dict>.items() - return a sequence of tuples representing key-value pairs\n",
        "- \\<dict>.get(\\<key>, \\<default>) - return the specified key or a default value\n",
        "- del \\<dict>[<key>] - delete the specified key\n",
        "- for \\<var> in \\<dict> - iterate over the keys\n",
        "- \\<dict>.clear() - delete all dictionary items"
      ],
      "metadata": {
        "id": "zVPwIXgfiRnx"
      }
    },
    {
      "cell_type": "code",
      "source": [
        "list(student.items())"
      ],
      "metadata": {
        "id": "599A5JjL_LtC",
        "outputId": "9783e2b6-7729-4059-b04c-cd9d7d318e98",
        "colab": {
          "base_uri": "https://localhost:8080/"
        }
      },
      "execution_count": 28,
      "outputs": [
        {
          "output_type": "execute_result",
          "data": {
            "text/plain": [
              "[('name', 'sara'), ('age', 23)]"
            ]
          },
          "metadata": {},
          "execution_count": 28
        }
      ]
    },
    {
      "cell_type": "markdown",
      "source": [
        "### Sets\n",
        "\n",
        "A set is a collection of `unique` items, similar to a list but with no duplicates. Multiple items added to a set are removed."
      ],
      "metadata": {
        "id": "xqFOZDZDlEkR"
      }
    },
    {
      "cell_type": "code",
      "source": [
        "names = set(['ann','bob','chris','ann'])\n",
        "print(names)"
      ],
      "metadata": {
        "id": "pYaZfSHGlMp-",
        "outputId": "451b7093-271f-4bc3-dd25-ce67a8b8c22a",
        "colab": {
          "base_uri": "https://localhost:8080/"
        }
      },
      "execution_count": null,
      "outputs": [
        {
          "output_type": "stream",
          "name": "stdout",
          "text": [
            "{'bob', 'chris', 'ann'}\n"
          ]
        }
      ]
    },
    {
      "cell_type": "markdown",
      "source": [
        "Python sets are modeled after sets in mathematics and support efficient comparison operations:\n",
        "\n",
        "- test if a set is a subset of another set\n",
        "\n",
        "- test if a set is a super-set of another set\n",
        "\n",
        "- difference between two sets\n",
        "\n",
        "- intersection of two sets"
      ],
      "metadata": {
        "id": "4Z85J9h9lUUG"
      }
    }
  ]
}