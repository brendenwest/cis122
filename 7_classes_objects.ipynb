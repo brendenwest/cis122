{
  "nbformat": 4,
  "nbformat_minor": 0,
  "metadata": {
    "colab": {
      "provenance": [],
      "authorship_tag": "ABX9TyNcmI1+/hv8/R/Vtuzt5sPB",
      "include_colab_link": true
    },
    "kernelspec": {
      "name": "python3",
      "display_name": "Python 3"
    },
    "language_info": {
      "name": "python"
    }
  },
  "cells": [
    {
      "cell_type": "markdown",
      "metadata": {
        "id": "view-in-github",
        "colab_type": "text"
      },
      "source": [
        "<a href=\"https://colab.research.google.com/github/brendenwest/cis122/blob/main/7_classes_objects.ipynb\" target=\"_parent\"><img src=\"https://colab.research.google.com/assets/colab-badge.svg\" alt=\"Open In Colab\"/></a>"
      ]
    },
    {
      "cell_type": "markdown",
      "source": [
        "# Classes & Objects\n",
        "\n",
        "### Reading\n",
        "- https://www.tutorialspoint.com/python/python_classes_objects.htm\n",
        "- https://allendowney.github.io/ThinkPython/chap16.html (also Ch. 14, 15)"
      ],
      "metadata": {
        "id": "GqIjp3pTrfUg"
      }
    },
    {
      "cell_type": "markdown",
      "source": [
        "### Learning outcomes\n",
        "- What are classes & objects?\n",
        "- Defining Python classes\n",
        "- Importing Python classes"
      ],
      "metadata": {
        "id": "mPAvJgclsA9o"
      }
    },
    {
      "cell_type": "markdown",
      "source": [
        "### Classes & Object Oriented Programming\n",
        "\n",
        "Classes are a key concept in `object-oriented` programming\n",
        "\n",
        "- A `class` is an `abstract` template that models a real-world object\n",
        "- A class definition can include `attributes` (aka properties or fields)\n",
        "- A class definition can include `methods` (functions)\n",
        "\n",
        "Objects are specific `instances` of a class - similar to how a Ford F150 and a Toyota Tundra are both specific, distinctly different instances of a truck.\n",
        "\n",
        "Objects `encapsulate` information about a specific item, allowing programs ot operate on it without knowing details of how the object is defined.\n",
        "\n",
        "Classs & objects can simplify programs by allowing complex functionality to be defined in one place and re-used easily.\n",
        "\n"
      ],
      "metadata": {
        "id": "wjbUlaSVscLh"
      }
    },
    {
      "cell_type": "markdown",
      "source": [
        "### Classes\n",
        "\n",
        "- Is a template for concrete instances (objects)\n",
        "- Name usually begins with an upper-case letter\n",
        "- Defines the attributes object instances will have\n",
        "- May define `class variables` shared between instances of the class\n",
        "- Can be nested in other classes\n",
        "- Can be defined in a python module with other classes or in a standalone module\n",
        "- In python, names for special class methods are delimited with __"
      ],
      "metadata": {
        "id": "AR2ErRWnuUD1"
      }
    },
    {
      "cell_type": "code",
      "execution_count": null,
      "metadata": {
        "id": "vR7GcmkcrRsa"
      },
      "outputs": [],
      "source": []
    }
  ]
}