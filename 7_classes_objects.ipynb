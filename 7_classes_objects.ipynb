{
  "nbformat": 4,
  "nbformat_minor": 0,
  "metadata": {
    "colab": {
      "provenance": [],
      "toc_visible": true,
      "authorship_tag": "ABX9TyNAJjOEY8guEY1ddSaKxZU2",
      "include_colab_link": true
    },
    "kernelspec": {
      "name": "python3",
      "display_name": "Python 3"
    },
    "language_info": {
      "name": "python"
    }
  },
  "cells": [
    {
      "cell_type": "markdown",
      "metadata": {
        "id": "view-in-github",
        "colab_type": "text"
      },
      "source": [
        "<a href=\"https://colab.research.google.com/github/brendenwest/cis122/blob/main/7_classes_objects.ipynb\" target=\"_parent\"><img src=\"https://colab.research.google.com/assets/colab-badge.svg\" alt=\"Open In Colab\"/></a>"
      ]
    },
    {
      "cell_type": "markdown",
      "source": [
        "# Classes & Objects\n",
        "\n",
        "### Reading\n",
        "- https://www.tutorialspoint.com/python/python_classes_objects.htm\n",
        "- https://allendowney.github.io/ThinkPython/chap16.html (also Ch. 14, 15)"
      ],
      "metadata": {
        "id": "GqIjp3pTrfUg"
      }
    },
    {
      "cell_type": "markdown",
      "source": [
        "### Learning outcomes\n",
        "- What are classes & objects?\n",
        "- Defining Python classes\n",
        "- Class inheritance\n",
        "- Importing Python classes"
      ],
      "metadata": {
        "id": "mPAvJgclsA9o"
      }
    },
    {
      "cell_type": "markdown",
      "source": [
        "### Classes & Object Oriented Programming\n",
        "\n",
        "Classes are a key concept in `object-oriented` programming\n",
        "\n",
        "- A `class` is an `abstract` template that models a real-world object\n",
        "- A class definition can include `attributes` (aka properties or fields)\n",
        "- A class definition can include `methods` (functions)\n",
        "\n",
        "Objects are specific `instances` of a class - similar to how a Ford F150 and a Toyota Tundra are both specific, distinctly different instances of a truck.\n",
        "\n",
        "Objects `encapsulate` information about a specific item, allowing programs ot operate on it without knowing details of how the object is defined.\n",
        "\n",
        "Classs & objects can simplify programs by allowing complex functionality to be defined in one place and re-used easily.\n",
        "\n"
      ],
      "metadata": {
        "id": "wjbUlaSVscLh"
      }
    },
    {
      "cell_type": "markdown",
      "source": [
        "### Classes\n",
        "\n",
        "- Is a template for concrete instances (objects)\n",
        "- Name usually begins with an upper-case letter\n",
        "- Defines the attributes object instances will have\n",
        "- May define `class variables` shared between instances of the class\n",
        "- Can be nested in other classes\n",
        "- Can be defined in a python module with other classes or in a standalone module\n",
        "- In python, names for special class methods are delimited with __"
      ],
      "metadata": {
        "id": "AR2ErRWnuUD1"
      }
    },
    {
      "cell_type": "markdown",
      "source": [
        "### Class definition\n",
        "\n",
        "Classes are defined with the `class` keyword and usually name is capitalized.\n",
        "\n",
        "Classes can have `default` methods defined in Python with `__name__` synatax. For example:\n",
        "\n",
        "- Class definition usually includes a constructor (aka `__init__`) method for initializing new instances with default values.\n",
        "- The method `__repr__` is invoked by the print() command and must return a string value.\n",
        "\n",
        "Python class methods expect `self`, which refers to the object being created, as the first input parameter."
      ],
      "metadata": {
        "id": "yPSaAhv5v_Ig"
      }
    },
    {
      "cell_type": "code",
      "source": [
        "class Student:\n",
        "\n",
        "  # constructor method to create new class instance\n",
        "  def __init__(self,first,last,major):\n",
        "    self.first_name = first\n",
        "    self.last_name = last\n",
        "    self.major = major\n",
        "\n",
        "  def __repr__(self):\n",
        "    return f\"{self.last_name}, {self.first_name} - major: {self.major}\"\n",
        "\n",
        "  # print student name\n",
        "  def fullName(self):\n",
        "    return f\"{self.first_name} {self.last_name}\""
      ],
      "metadata": {
        "id": "aKmXCqkiv2cu"
      },
      "execution_count": 13,
      "outputs": []
    },
    {
      "cell_type": "markdown",
      "source": [
        "### Objects\n",
        "\n",
        "Objects are specific instances of a class. Objects of the same class are distinct & different."
      ],
      "metadata": {
        "id": "zZndUKSY1Aap"
      }
    },
    {
      "cell_type": "code",
      "execution_count": 15,
      "metadata": {
        "colab": {
          "base_uri": "https://localhost:8080/"
        },
        "id": "vR7GcmkcrRsa",
        "outputId": "18c201f0-b9ad-4e67-8ec6-9708ca0fca15"
      },
      "outputs": [
        {
          "output_type": "stream",
          "name": "stdout",
          "text": [
            "Smith, Jane - major: Art\n",
            "Taylor, Mike - major: Theater\n"
          ]
        }
      ],
      "source": [
        "jane = Student(\"Jane\", \"Smith\", \"Art\")\n",
        "mike = Student(\"Mike\", \"Taylor\", \"Theater\")\n",
        "print(jane)\n",
        "print(mike)"
      ]
    },
    {
      "cell_type": "code",
      "source": [],
      "metadata": {
        "id": "sYhdETSWxx5d"
      },
      "execution_count": null,
      "outputs": []
    }
  ]
}