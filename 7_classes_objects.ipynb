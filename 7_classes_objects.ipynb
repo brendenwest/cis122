{
  "nbformat": 4,
  "nbformat_minor": 0,
  "metadata": {
    "colab": {
      "provenance": [],
      "authorship_tag": "ABX9TyOMnINHmt8p2qkiSUGpqgeI",
      "include_colab_link": true
    },
    "kernelspec": {
      "name": "python3",
      "display_name": "Python 3"
    },
    "language_info": {
      "name": "python"
    }
  },
  "cells": [
    {
      "cell_type": "markdown",
      "metadata": {
        "id": "view-in-github",
        "colab_type": "text"
      },
      "source": [
        "<a href=\"https://colab.research.google.com/github/brendenwest/cis122/blob/main/7_classes_objects.ipynb\" target=\"_parent\"><img src=\"https://colab.research.google.com/assets/colab-badge.svg\" alt=\"Open In Colab\"/></a>"
      ]
    },
    {
      "cell_type": "markdown",
      "source": [
        "# Classes & Objects\n",
        "\n",
        "### Reading\n",
        "- https://www.tutorialspoint.com/python/python_classes_objects.htm\n",
        "- https://allendowney.github.io/ThinkPython/chap16.html (also Ch. 14, 15)"
      ],
      "metadata": {
        "id": "GqIjp3pTrfUg"
      }
    },
    {
      "cell_type": "markdown",
      "source": [
        "### Learning outcomes\n",
        "- What are classes & objects?\n",
        "- Defining Python classes\n",
        "- Class inheritance\n",
        "- Importing Python classes"
      ],
      "metadata": {
        "id": "mPAvJgclsA9o"
      }
    },
    {
      "cell_type": "markdown",
      "source": [
        "### Classes & Object Oriented Programming\n",
        "\n",
        "Classes are a key concept in `object-oriented` programming\n",
        "\n",
        "- A `class` is an `abstract` template that models a real-world object\n",
        "- A class definition can include `attributes` (aka properties or fields)\n",
        "- A class definition can include `methods` (functions)\n",
        "\n",
        "Objects are specific `instances` of a class - similar to how a Ford F150 and a Toyota Tundra are both specific, distinctly different instances of a truck.\n",
        "\n",
        "Objects `encapsulate` information about a specific item, allowing programs ot operate on it without knowing details of how the object is defined.\n",
        "\n",
        "Classs & objects can simplify programs by allowing complex functionality to be defined in one place and re-used easily.\n",
        "\n"
      ],
      "metadata": {
        "id": "wjbUlaSVscLh"
      }
    },
    {
      "cell_type": "markdown",
      "source": [
        "### Classes\n",
        "\n",
        "- Is a template for concrete instances (objects)\n",
        "- Name usually begins with an upper-case letter\n",
        "- Defines the attributes object instances will have\n",
        "- May define `class variables` shared between instances of the class\n",
        "- Can be nested in other classes\n",
        "- Can be defined in a python module with other classes or in a standalone module\n",
        "- In python, names for special class methods are delimited with __"
      ],
      "metadata": {
        "id": "AR2ErRWnuUD1"
      }
    },
    {
      "cell_type": "markdown",
      "source": [
        "### Class definition\n",
        "\n",
        "Classes are defined with the `class` keyword and usually name is capitalized.\n",
        "\n",
        "Classes can have `default` methods defined in Python with `__name__` synatax. For example:\n",
        "\n",
        "- Class definition usually includes a constructor (aka `__init__`) method for initializing new instances with default values.\n",
        "- The method `__repr__` is invoked by the print() command and must return a string value.\n",
        "\n",
        "Python class methods expect `self`, which refers to the object being created, as the first input parameter."
      ],
      "metadata": {
        "id": "yPSaAhv5v_Ig"
      }
    },
    {
      "cell_type": "code",
      "source": [
        "class Person:\n",
        "\n",
        "  # constructor method to create new class instance\n",
        "  def __init__(self,first,last):\n",
        "    self.first_name = first\n",
        "    self.last_name = last\n",
        "\n",
        "  def __repr__(self):\n",
        "    return f\"{self.last_name}, {self.first_name}\"\n",
        "\n",
        "  # print student name\n",
        "  def fullName(self):\n",
        "    return f\"{self.first_name} {self.last_name}\""
      ],
      "metadata": {
        "id": "aKmXCqkiv2cu"
      },
      "execution_count": 14,
      "outputs": []
    },
    {
      "cell_type": "markdown",
      "source": [
        "### Objects\n",
        "\n",
        "Objects are specific instances of a class. Objects of the same class are distinct & different."
      ],
      "metadata": {
        "id": "zZndUKSY1Aap"
      }
    },
    {
      "cell_type": "code",
      "execution_count": 15,
      "metadata": {
        "colab": {
          "base_uri": "https://localhost:8080/"
        },
        "id": "vR7GcmkcrRsa",
        "outputId": "e012e523-2afd-4a09-ed5e-b5969bf63ed9"
      },
      "outputs": [
        {
          "output_type": "stream",
          "name": "stdout",
          "text": [
            "Smith, Jane\n",
            "Taylor, Mike\n"
          ]
        }
      ],
      "source": [
        "jane = Person(\"Jane\", \"Smith\")\n",
        "mike = Person(\"Mike\", \"Taylor\")\n",
        "print(jane)\n",
        "print(mike)"
      ]
    },
    {
      "cell_type": "code",
      "source": [
        "print(jane.fullName())\n",
        "print(mike.fullName())"
      ],
      "metadata": {
        "id": "sYhdETSWxx5d",
        "outputId": "453cdf97-afe3-48cf-eb4d-8f4b1c95ddad",
        "colab": {
          "base_uri": "https://localhost:8080/"
        }
      },
      "execution_count": 16,
      "outputs": [
        {
          "output_type": "stream",
          "name": "stdout",
          "text": [
            "Jane Smith\n",
            "Mike Taylor\n"
          ]
        }
      ]
    },
    {
      "cell_type": "code",
      "source": [
        "class Student(Person):\n",
        "\n",
        "  # class attribute\n",
        "  count = 0\n",
        "\n",
        "  # constructor method to create new class instance\n",
        "  def __init__(self,first,last,major):\n",
        "    super().__init__(first, last)\n",
        "    self.major = major\n",
        "    Student.count += 1\n",
        "    self.id = Student.count\n",
        "\n",
        "  def __repr__(self):\n",
        "    return f\"{self.id} - {self.last_name}, {self.first_name} - major: {self.major}\"\n",
        "\n",
        "class Faculty(Person):\n",
        "\n",
        "  # class attribute\n",
        "  count = 0\n",
        "\n",
        "  # constructor method to create new class instance\n",
        "  def __init__(self,first,last,dept):\n",
        "    super().__init__(first, last)\n",
        "    self.dept = dept\n",
        "    Faculty.count += 1\n",
        "    self.id = Faculty.count\n",
        "\n",
        "  def __repr__(self):\n",
        "    return f\"{self.id} - {self.last_name}, {self.first_name} - department: {self.dept}\"\n"
      ],
      "metadata": {
        "id": "TiJRKyZmBTKh"
      },
      "execution_count": 22,
      "outputs": []
    },
    {
      "cell_type": "code",
      "source": [
        "hakim = Student(\"Hakim\", \"Salah\", \"Science\")\n",
        "print(hakim)\n",
        "print(hakim.fullName())\n",
        "\n",
        "jones = Faculty(\"George\", \"Jones\", \"Math\")\n",
        "print(jones)"
      ],
      "metadata": {
        "id": "sa37op86COu6",
        "outputId": "075e8b2d-ca38-4acb-e641-c403b7aa8d75",
        "colab": {
          "base_uri": "https://localhost:8080/"
        }
      },
      "execution_count": 23,
      "outputs": [
        {
          "output_type": "stream",
          "name": "stdout",
          "text": [
            "1 - Salah, Hakim - major: Science\n",
            "Hakim Salah\n",
            "1 - Jones, George - department: Math\n"
          ]
        }
      ]
    }
  ]
}