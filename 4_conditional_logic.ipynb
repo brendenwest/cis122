{
  "nbformat": 4,
  "nbformat_minor": 0,
  "metadata": {
    "colab": {
      "provenance": [],
      "authorship_tag": "ABX9TyMhKVJX9LmRhWpaEMvyZgDz",
      "include_colab_link": true
    },
    "kernelspec": {
      "name": "python3",
      "display_name": "Python 3"
    },
    "language_info": {
      "name": "python"
    }
  },
  "cells": [
    {
      "cell_type": "markdown",
      "metadata": {
        "id": "view-in-github",
        "colab_type": "text"
      },
      "source": [
        "<a href=\"https://colab.research.google.com/github/brendenwest/cis122/blob/main/4_conditional_logic.ipynb\" target=\"_parent\"><img src=\"https://colab.research.google.com/assets/colab-badge.svg\" alt=\"Open In Colab\"/></a>"
      ]
    },
    {
      "cell_type": "markdown",
      "source": [
        "# Conditional Logic"
      ],
      "metadata": {
        "id": "ZagjHO99cn4E"
      }
    },
    {
      "cell_type": "markdown",
      "source": [
        "Conditional statements allow a program to execute different instructions for different conditions.\n",
        "\n",
        "### Reading\n",
        "\n",
        "- https://allendowney.github.io/ThinkPython/chap05.html\n",
        "- https://www.tutorialspoint.com/python/python_comparison_operators.htm\n",
        "- https://www.tutorialspoint.com/python/python_logical_operators.htm\n",
        "- https://www.tutorialspoint.com/python/python_control_flow.htm (through case statements)\n",
        "\n"
      ],
      "metadata": {
        "id": "9rv2VeLLczuY"
      }
    },
    {
      "cell_type": "markdown",
      "source": [
        "### Boolean Expressions\n",
        "\n",
        "Conditional statements use boolean expressions that evaluate to either `True` or `False`.\n",
        "\n",
        "Expressions can use these comparison operators:\n",
        "\n",
        "```\n",
        "<     (less than)\n",
        "<=    (less than or equal to)\n",
        "==    (equals)\n",
        ">=    (greater than or equal to)\n",
        ">     (greater than)\n",
        "!=    (not equal)\n",
        "\n",
        "```\n",
        "\n",
        "```\n",
        "1 < 3 # evaluates to True\n",
        "1 > 3 # evaluates to False\n",
        "'Dave' == 'dave' # False because upper- & lower-case strings are not equal\n",
        "```\n"
      ],
      "metadata": {
        "id": "FNHHcm1Xh2wg"
      }
    },
    {
      "cell_type": "markdown",
      "source": [
        "**Compound** boolean expressions can be formed with **and**, **or**, **not**.\n",
        "\n",
        "**not** - returns the opposite of a subsequent boolean expression:"
      ],
      "metadata": {
        "id": "CbfrMsadiqun"
      }
    },
    {
      "cell_type": "code",
      "execution_count": 2,
      "metadata": {
        "id": "HHBzXvlrcmxr",
        "outputId": "c72ff9bf-4314-4b97-9cc9-e52cecf36878",
        "colab": {
          "base_uri": "https://localhost:8080/"
        }
      },
      "outputs": [
        {
          "output_type": "stream",
          "name": "stdout",
          "text": [
            "False\n",
            "True\n",
            "False\n",
            "True\n"
          ]
        }
      ],
      "source": [
        "age = 32\n",
        "gender = 'female'\n",
        "\n",
        "print(age < 18 and gender == 'female') # True if both expressions are true\n",
        "print(age < 18 or gender == 'female')  # True if either expressions is true\n",
        "\n",
        "print(not age == 32) # prints False\n",
        "print(not age == 2) # prints True"
      ]
    },
    {
      "cell_type": "markdown",
      "source": [
        "### Conditional Statements\n",
        "\n",
        "```\n",
        "if <EXPRESSION>:\n",
        "    # statements to execute if EXPRESSION is True\n",
        "```\n",
        "\n",
        "- Expression does not need parentheses\n",
        "- Condition statement must end with a colon\n",
        "- EXPRESSION must be a valid boolean expression\n",
        "- Statements to execute must be indendented"
      ],
      "metadata": {
        "id": "R_woih6xjMZA"
      }
    },
    {
      "cell_type": "code",
      "source": [
        "age = 20\n",
        "if age < 21:\n",
        "  print(\"Sorry, you're too young to buy alcohol.\")"
      ],
      "metadata": {
        "id": "3pnlFHe2jt51",
        "outputId": "23261975-7ed8-41ef-aa1f-4f84bb08ed18",
        "colab": {
          "base_uri": "https://localhost:8080/"
        }
      },
      "execution_count": 4,
      "outputs": [
        {
          "output_type": "stream",
          "name": "stdout",
          "text": [
            "Sorry, you're too young to buy alcohol.\n"
          ]
        }
      ]
    },
    {
      "cell_type": "markdown",
      "source": [
        "Conditional logic can have multiple, exclusive expressions"
      ],
      "metadata": {
        "id": "dVQPc8k3j1He"
      }
    },
    {
      "cell_type": "code",
      "source": [
        "age = 17\n",
        "if age < 21:\n",
        "  print(\"Sorry, you're too young to buy alcohol.\")\n",
        "else:  # no boolean expression needed here\n",
        "  print(\"Will that be cash or credit?\")\n",
        "\n",
        "if age < 18:\n",
        "  print(\"You cannot vote, drink, or smoke.\")\n",
        "elif age < 21:\n",
        "  print(\"Sorry, you're too young to buy alcohol.\")\n",
        "else:  # no boolean expression needed here\n",
        "  print(\"Will that be cash or credit?\")"
      ],
      "metadata": {
        "id": "rS_uD3l-j9q9",
        "outputId": "04f31386-130f-40ff-c6d2-6fbf10efd70e",
        "colab": {
          "base_uri": "https://localhost:8080/"
        }
      },
      "execution_count": 9,
      "outputs": [
        {
          "output_type": "stream",
          "name": "stdout",
          "text": [
            "Sorry, you're too young to buy alcohol.\n",
            "You cannot vote, drink, or smoke.\n"
          ]
        }
      ]
    },
    {
      "cell_type": "markdown",
      "source": [
        "Conditional expressions can be nested"
      ],
      "metadata": {
        "id": "jaHIsUOKkjTz"
      }
    },
    {
      "cell_type": "code",
      "source": [
        "age = 19\n",
        "if age < 21:\n",
        "  if age > 18:\n",
        "    print(\"You can vote, but not drink or smoke.\")\n",
        "  else:\n",
        "    print(\"You cannot vote, drink, or smoke.\")\n",
        "else:  # no boolean expression needed here\n",
        "  print(\"Will that be cash or credit?\")"
      ],
      "metadata": {
        "id": "SCTe3XFzkmxK",
        "outputId": "394b9a3e-f3b0-4c22-afd8-8082b2fbdc79",
        "colab": {
          "base_uri": "https://localhost:8080/"
        }
      },
      "execution_count": 12,
      "outputs": [
        {
          "output_type": "stream",
          "name": "stdout",
          "text": [
            "You can vote, but not drink or smoke.\n"
          ]
        }
      ]
    },
    {
      "cell_type": "markdown",
      "source": [
        "### Match Case statements\n",
        "\n",
        "A Python match-case statement takes an expression and compares its value to successive patterns given as one or more case blocks. Only the first pattern that matches gets executed."
      ],
      "metadata": {
        "id": "wyjFhqJwlLe1"
      }
    },
    {
      "cell_type": "code",
      "source": [
        "def direction(val):\n",
        "   match val.upper(): # convert value to upper-case\n",
        "      case 'N': return \"North\"\n",
        "      case 'W': return \"West\"\n",
        "      case 'S': return \"South\"\n",
        "      case 'E': return \"East\"\n",
        "      case _: return f\"Invalid direction value: {val}\"\n",
        "\n",
        "print (direction('n'))\n",
        "print (direction('e'))\n",
        "print (direction('a'))"
      ],
      "metadata": {
        "id": "vQe8-uqmlbvd",
        "outputId": "60915564-89dc-4f60-ada1-d1c9e865fe8a",
        "colab": {
          "base_uri": "https://localhost:8080/"
        }
      },
      "execution_count": 17,
      "outputs": [
        {
          "output_type": "stream",
          "name": "stdout",
          "text": [
            "North\n",
            "East\n",
            "Invalid direction value: a\n"
          ]
        }
      ]
    },
    {
      "cell_type": "markdown",
      "source": [
        "Case statements can take compound expressions with cases separated by the \" | \" symbol, representing `OR`."
      ],
      "metadata": {
        "id": "eGvPblMamfOV"
      }
    },
    {
      "cell_type": "code",
      "source": [
        "def witch(val):\n",
        "   match val.upper(): # convert value to upper-case\n",
        "      case 'N' | 'S': return \"Good\"\n",
        "      case 'W' | 'E': return \"Wicked\"\n",
        "      case _: return f\"Invalid direction value: {val}\"\n",
        "\n",
        "print (direction('n'))\n",
        "print (direction('e'))\n",
        "print (direction('a'))"
      ],
      "metadata": {
        "id": "o78lUB6dmj-N",
        "outputId": "30f70d3d-5983-4a09-c7aa-77f09184e7a0",
        "colab": {
          "base_uri": "https://localhost:8080/"
        }
      },
      "execution_count": 21,
      "outputs": [
        {
          "output_type": "stream",
          "name": "stdout",
          "text": [
            "North\n",
            "East\n",
            "Invalid direction value: a\n"
          ]
        }
      ]
    }
  ]
}