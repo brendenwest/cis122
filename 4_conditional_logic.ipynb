{
  "nbformat": 4,
  "nbformat_minor": 0,
  "metadata": {
    "colab": {
      "provenance": [],
      "authorship_tag": "ABX9TyPCmt1Bm+rGR20k4l2VAj3l",
      "include_colab_link": true
    },
    "kernelspec": {
      "name": "python3",
      "display_name": "Python 3"
    },
    "language_info": {
      "name": "python"
    }
  },
  "cells": [
    {
      "cell_type": "markdown",
      "metadata": {
        "id": "view-in-github",
        "colab_type": "text"
      },
      "source": [
        "<a href=\"https://colab.research.google.com/github/brendenwest/cis122/blob/main/4_conditional_logic.ipynb\" target=\"_parent\"><img src=\"https://colab.research.google.com/assets/colab-badge.svg\" alt=\"Open In Colab\"/></a>"
      ]
    },
    {
      "cell_type": "markdown",
      "source": [
        "# Conditional Logic"
      ],
      "metadata": {
        "id": "ZagjHO99cn4E"
      }
    },
    {
      "cell_type": "markdown",
      "source": [
        "### Reading\n",
        "\n",
        "- https://allendowney.github.io/ThinkPython/chap05.html\n",
        "- https://www.tutorialspoint.com/python/python_comparison_operators.htm\n",
        "- https://www.tutorialspoint.com/python/python_logical_operators.htm\n",
        "- https://www.tutorialspoint.com/python/python_control_flow.htm (through case statements)\n",
        "\n"
      ],
      "metadata": {
        "id": "9rv2VeLLczuY"
      }
    },
    {
      "cell_type": "code",
      "execution_count": null,
      "metadata": {
        "id": "HHBzXvlrcmxr"
      },
      "outputs": [],
      "source": []
    }
  ]
}