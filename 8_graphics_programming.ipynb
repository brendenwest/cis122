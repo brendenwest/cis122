{
  "nbformat": 4,
  "nbformat_minor": 0,
  "metadata": {
    "colab": {
      "provenance": [],
      "authorship_tag": "ABX9TyNkZlVkWL6p+dVdAz5CLn81",
      "include_colab_link": true
    },
    "kernelspec": {
      "name": "python3",
      "display_name": "Python 3"
    },
    "language_info": {
      "name": "python"
    }
  },
  "cells": [
    {
      "cell_type": "markdown",
      "metadata": {
        "id": "view-in-github",
        "colab_type": "text"
      },
      "source": [
        "<a href=\"https://colab.research.google.com/github/brendenwest/cis122/blob/main/8_graphics_programming.ipynb\" target=\"_parent\"><img src=\"https://colab.research.google.com/assets/colab-badge.svg\" alt=\"Open In Colab\"/></a>"
      ]
    },
    {
      "cell_type": "markdown",
      "source": [
        "# Graphics Programming"
      ],
      "metadata": {
        "id": "k3nJLFXMMG8x"
      }
    },
    {
      "cell_type": "markdown",
      "source": [
        "### Reading\n",
        "\n",
        "- https://www.tutorialspoint.com/python/python_gui_programming.htm\n",
        "\n",
        "### Learning Outcomes\n",
        "- Python graphics setup\n",
        "- Graphics window concepts\n",
        "- Graphics objects\n",
        "- Drawing methods"
      ],
      "metadata": {
        "id": "oK9ki8WWMJ72"
      }
    },
    {
      "cell_type": "code",
      "source": [
        "!apt-get install -y xvfb\n",
        "!pip install pyvirtualdisplay\n",
        "import pyvirtualdisplay\n",
        "\n",
        "import os\n",
        "os.system(\"Xvfb :1 -screen 0 1024x768x24 &\")\n",
        "os.environ['DISPLAY'] = ':1'\n",
        "\n",
        "# !Xvfb :1 -screen 0 1024x768x24 &\n",
        "# import os\n",
        "# os.environ['DISPLAY'] = ':1'"
      ],
      "metadata": {
        "colab": {
          "base_uri": "https://localhost:8080/"
        },
        "id": "WtGCxDw1U88k",
        "outputId": "71659bf6-a16f-442d-eddb-574c74b4074d"
      },
      "execution_count": 50,
      "outputs": [
        {
          "output_type": "stream",
          "name": "stdout",
          "text": [
            "Reading package lists... Done\n",
            "Building dependency tree... Done\n",
            "Reading state information... Done\n",
            "xvfb is already the newest version (2:21.1.4-2ubuntu1.7~22.04.11).\n",
            "0 upgraded, 0 newly installed, 0 to remove and 49 not upgraded.\n",
            "Requirement already satisfied: pyvirtualdisplay in /usr/local/lib/python3.10/dist-packages (3.0)\n"
          ]
        }
      ]
    },
    {
      "cell_type": "code",
      "source": [
        "d = pyvirtualdisplay.Display(visible=0, size=(1400, 900))\n",
        "d.start()"
      ],
      "metadata": {
        "colab": {
          "base_uri": "https://localhost:8080/"
        },
        "id": "nDdd09XvZD2M",
        "outputId": "819faa8d-1da6-473c-f682-4914b9c50529"
      },
      "execution_count": 44,
      "outputs": [
        {
          "output_type": "execute_result",
          "data": {
            "text/plain": [
              "<pyvirtualdisplay.display.Display at 0x788c336e79a0>"
            ]
          },
          "metadata": {},
          "execution_count": 44
        }
      ]
    },
    {
      "cell_type": "code",
      "source": [
        "from urllib.request import urlretrieve\n",
        "urlretrieve(\"https://mcsp.wartburg.edu/zelle/python/ppics2/code/graphics.py\", \"graphics.py\")\n",
        "from graphics import *"
      ],
      "metadata": {
        "id": "0gq0XezFS8T-"
      },
      "execution_count": 47,
      "outputs": []
    },
    {
      "cell_type": "code",
      "execution_count": 51,
      "metadata": {
        "id": "sTi4q8LIMATX"
      },
      "outputs": [],
      "source": [
        "win = GraphWin(\"Window Title\",600,600)\n",
        "p = Point(50, 60)\n",
        "p.draw(win)"
      ]
    }
  ]
}