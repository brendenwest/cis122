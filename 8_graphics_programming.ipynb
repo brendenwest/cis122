{
  "nbformat": 4,
  "nbformat_minor": 0,
  "metadata": {
    "colab": {
      "provenance": [],
      "authorship_tag": "ABX9TyMixrLIZKyUz/WL6YhlCIav",
      "include_colab_link": true
    },
    "kernelspec": {
      "name": "python3",
      "display_name": "Python 3"
    },
    "language_info": {
      "name": "python"
    }
  },
  "cells": [
    {
      "cell_type": "markdown",
      "metadata": {
        "id": "view-in-github",
        "colab_type": "text"
      },
      "source": [
        "<a href=\"https://colab.research.google.com/github/brendenwest/cis122/blob/main/8_graphics_programming.ipynb\" target=\"_parent\"><img src=\"https://colab.research.google.com/assets/colab-badge.svg\" alt=\"Open In Colab\"/></a>"
      ]
    },
    {
      "cell_type": "markdown",
      "source": [
        "# Graphics Programming"
      ],
      "metadata": {
        "id": "k3nJLFXMMG8x"
      }
    },
    {
      "cell_type": "markdown",
      "source": [
        "### Reading\n",
        "\n",
        "- https://www.tutorialspoint.com/python/python_gui_programming.htm\n",
        "\n",
        "### Learning Outcomes\n",
        "- Python graphics setup\n",
        "- Graphics window concepts\n",
        "- Graphics objects\n",
        "- Drawing methods"
      ],
      "metadata": {
        "id": "oK9ki8WWMJ72"
      }
    },
    {
      "cell_type": "markdown",
      "source": [
        "### Graphics Programming\n",
        "\n",
        "Graphical user interfaces (GUI) are a key area of computer programming. While Python is not the most common language for GUI programming, it is used in some cases and we can use Python for basic `drawing` functionality.\n",
        "\n",
        "A GUI is made up of basic geometric elements (objects) drawn on the computer display for user interaction.\n",
        "\n",
        "Unfortunately, it's not feasible to run GUI programs in a web browser, so the examples here need to be run on a personal computer."
      ],
      "metadata": {
        "id": "y9BZOY0XaeEc"
      }
    },
    {
      "cell_type": "markdown",
      "source": [
        "### Python GUI\n",
        "\n",
        "The [tkinter library](https://docs.python.org/2/library/tkinter.html) enables Python to interact with a computer's graphical user interface (GUI) and draw visual elements.\n",
        "\n",
        "Examples here assume you have downloaded this [custom Python library](http://mcsp.wartburg.edu/zelle/python/ppics2/code/graphics.py) - which depends on tkinter and simplifies its drawing commands."
      ],
      "metadata": {
        "id": "ZxMl5W1UbVGg"
      }
    },
    {
      "cell_type": "markdown",
      "source": [
        "Drawing takes place withing a graphics `window`"
      ],
      "metadata": {
        "id": "oJE2V3afcwe2"
      }
    },
    {
      "cell_type": "code",
      "source": [
        "from graphics import *\n",
        "win = GraphWin(\"Window Title\",600,600)"
      ],
      "metadata": {
        "colab": {
          "base_uri": "https://localhost:8080/"
        },
        "id": "nDdd09XvZD2M",
        "outputId": "819faa8d-1da6-473c-f682-4914b9c50529"
      },
      "execution_count": null,
      "outputs": [
        {
          "output_type": "execute_result",
          "data": {
            "text/plain": [
              "<pyvirtualdisplay.display.Display at 0x788c336e79a0>"
            ]
          },
          "metadata": {},
          "execution_count": 44
        }
      ]
    },
    {
      "cell_type": "markdown",
      "source": [
        "Graphics windows have a defined size (in pixels). Default is 200 x 200\n",
        "- All points in the window have horizonal (x) and vertical (y) coordinatesic\n",
        "- Coordinate system begins with the upper left corner (0,0)\n",
        "- X values increase from left to right, Y values increase from top to bottom\n",
        "- You can set custom title and window size like so:"
      ],
      "metadata": {
        "id": "EL6t4c4fc7VR"
      }
    },
    {
      "cell_type": "markdown",
      "source": [
        "`tkinter` provides classes for basic graphic objects that serve as building blocks for a more complex GUI.\n",
        "\n",
        "Each class has a constructor methods to create instances of that class.\n",
        "\n",
        "Once defined, a graphic object is drawn to the graphics window with the draw() method."
      ],
      "metadata": {
        "id": "O6yVpZAadKFx"
      }
    },
    {
      "cell_type": "markdown",
      "source": [
        "### Point\n",
        "Points are the simplest graphical objects and are defined by their x & y coordinates:"
      ],
      "metadata": {
        "id": "AqoggxJPddKP"
      }
    },
    {
      "cell_type": "code",
      "execution_count": null,
      "metadata": {
        "id": "sTi4q8LIMATX"
      },
      "outputs": [],
      "source": [
        "p = Point(50, 60)\n",
        "p.draw(win)"
      ]
    },
    {
      "cell_type": "markdown",
      "source": [
        "### Line"
      ],
      "metadata": {
        "id": "xpXksoC5diyz"
      }
    },
    {
      "cell_type": "code",
      "source": [
        "l = Line(<point1>, <point2>)\n",
        "l = Line(Point(10,10), Point(50,50))\n",
        "l.draw(win)"
      ],
      "metadata": {
        "id": "uNlrnZlkdlgW"
      },
      "execution_count": null,
      "outputs": []
    },
    {
      "cell_type": "markdown",
      "source": [
        "### Circle"
      ],
      "metadata": {
        "id": "ru-7evk8dpDn"
      }
    },
    {
      "cell_type": "code",
      "source": [
        "c = Circle(<center_point>, <radius>)\n",
        "c = Circle(p, 30)"
      ],
      "metadata": {
        "id": "7N8ZID50dsmI"
      },
      "execution_count": null,
      "outputs": []
    },
    {
      "cell_type": "markdown",
      "source": [
        "### Oval"
      ],
      "metadata": {
        "id": "a9-Y5Is4dteK"
      }
    },
    {
      "cell_type": "code",
      "source": [
        "o = Oval(<point1>, <point2>)\n",
        "o = Oval(Point(10,10), Point(50,50))"
      ],
      "metadata": {
        "id": "ch5HqNUMdweU"
      },
      "execution_count": null,
      "outputs": []
    },
    {
      "cell_type": "markdown",
      "source": [
        "### Rectangle"
      ],
      "metadata": {
        "id": "aIdxDDUBdy8i"
      }
    },
    {
      "cell_type": "code",
      "source": [
        "r = Rectangle(<point_upper_left>, <point_lower_right>)\n",
        "r =  Rectangle(Point(10,10), Point(100,100))"
      ],
      "metadata": {
        "id": "niuMTOq0d1K2"
      },
      "execution_count": null,
      "outputs": []
    },
    {
      "cell_type": "markdown",
      "source": [
        "### Polygon\n",
        "Takes any number of points and connects them into a `closed` shape."
      ],
      "metadata": {
        "id": "gwBLk3SYd3vd"
      }
    },
    {
      "cell_type": "code",
      "source": [
        "t = Polygon(<point1>,<point2>,<point3>)"
      ],
      "metadata": {
        "id": "xCd1vYWWd_QS"
      },
      "execution_count": null,
      "outputs": []
    },
    {
      "cell_type": "markdown",
      "source": [
        "### Text Entry\n",
        "Creates a text-entry object for user interaction"
      ],
      "metadata": {
        "id": "YRePnyGJeB5O"
      }
    },
    {
      "cell_type": "code",
      "source": [
        "e = Entry(<point>,<num_chars>)"
      ],
      "metadata": {
        "id": "B2U3dx8zeIxI"
      },
      "execution_count": null,
      "outputs": []
    },
    {
      "cell_type": "markdown",
      "source": [
        "### Text"
      ],
      "metadata": {
        "id": "2ImSnJkseKs6"
      }
    },
    {
      "cell_type": "code",
      "source": [
        "label = Text(<center_point>, “text”)"
      ],
      "metadata": {
        "id": "K6bYTGU4eNhe"
      },
      "execution_count": null,
      "outputs": []
    }
  ]
}