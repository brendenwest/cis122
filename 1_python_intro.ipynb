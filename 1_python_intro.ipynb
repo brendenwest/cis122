{
  "nbformat": 4,
  "nbformat_minor": 0,
  "metadata": {
    "colab": {
      "provenance": [],
      "toc_visible": true,
      "authorship_tag": "ABX9TyPVwlKJrDIHlIIf3+71ToMR",
      "include_colab_link": true
    },
    "kernelspec": {
      "name": "python3",
      "display_name": "Python 3"
    },
    "language_info": {
      "name": "python"
    }
  },
  "cells": [
    {
      "cell_type": "markdown",
      "metadata": {
        "id": "view-in-github",
        "colab_type": "text"
      },
      "source": [
        "<a href=\"https://colab.research.google.com/github/brendenwest/cis122/blob/main/1_python_intro.ipynb\" target=\"_parent\"><img src=\"https://colab.research.google.com/assets/colab-badge.svg\" alt=\"Open In Colab\"/></a>"
      ]
    },
    {
      "cell_type": "markdown",
      "source": [
        "# Intro to Python"
      ],
      "metadata": {
        "id": "GnQ3Pd2qK7E4"
      }
    },
    {
      "cell_type": "markdown",
      "source": [
        "## Reading\n",
        "\n",
        "- Think Python, Chapter 1 & 2 - https://allendowney.github.io/ThinkPython/\n",
        "- https://www.tutorialspoint.com/python/python_basic_syntax.htm"
      ],
      "metadata": {
        "id": "Hm-3gzrSLD2E"
      }
    },
    {
      "cell_type": "markdown",
      "source": [
        "## Overview of Programming Languages\n",
        "\n",
        "- Unambiguous way of providing instructions to a computer\n",
        "- **High-level** languages are designed to be understood by humans. E.g. Python, Java, C++\n",
        "- **Low-level** languages optimized for machines - Machine code, Assembly\n",
        "- **Compilers** convert programming code to **machine code** (binary)\n",
        "- **Compiled** languages are translated to binary before execution. These include Java, C++, C#\n",
        "- Compiled programs generally runs faster than interpreted code\n",
        "- **Interpreted** languages are (sort of) compiled at run-time. These include Python,  JavaScript, and PHP\n",
        "- Interpreted code can be developed and run interactively with less setup overhead"
      ],
      "metadata": {
        "id": "FwIdK4VrLMBC"
      }
    },
    {
      "cell_type": "markdown",
      "source": [
        "## Why Python?\n",
        "\n",
        "- readable,\n",
        "- easy to set up and run interactively,\n",
        "- class-based & object oriented\n",
        "- Open-source w/ large ecosystem of specialized libraries"
      ],
      "metadata": {
        "id": "Ir0QjY46LdUB"
      }
    },
    {
      "cell_type": "markdown",
      "source": [
        "## How to run Python\n",
        "\n",
        "Where:\n",
        "- on local computer\n",
        "- in a cloud-hosted workspace (e.g https://replit.com)\n",
        "\n",
        "How\n",
        "- via OS command-line (e.g. bash, PowerShell, etc)\n",
        "- Python shell\n",
        "- Jupyter notebook\n"
      ],
      "metadata": {
        "id": "SPZkWyTNNG04"
      }
    },
    {
      "cell_type": "markdown",
      "source": [
        "## Basic Python Syntax"
      ],
      "metadata": {
        "id": "3JeatB2COQGt"
      }
    },
    {
      "cell_type": "markdown",
      "source": [
        "### Variables\n",
        "\n",
        "Variables can be defined with basic data type (e.g numbers, strings, or `boolean`).\n",
        "\n",
        "**note**\n",
        "- Python does not require you specify the numeric type.\n",
        "- Strings can be delimited with double or single quotes"
      ],
      "metadata": {
        "id": "MwdTlruzPLuB"
      }
    },
    {
      "cell_type": "code",
      "source": [
        "age = 32                # integer\n",
        "gpa = 3.8               # floating point\n",
        "name = \"Paul Atreides\"  # string\n",
        "isStudent = True        # boolean"
      ],
      "metadata": {
        "id": "2N39zr9oPhyo"
      },
      "execution_count": null,
      "outputs": []
    },
    {
      "cell_type": "markdown",
      "source": [
        "### Expressions\n",
        "\n",
        "Expressions are a collection of operators and numbers that are evaluated to a single value.\n",
        "\n",
        "Python supports standard math operators and follows the order of operations you might have learned in a math class: exponentiation happens before multiplication and division, which happen before addition and subtraction."
      ],
      "metadata": {
        "id": "MRHmzjDpSbB6"
      }
    },
    {
      "cell_type": "code",
      "source": [
        "3 + 6 ** 2"
      ],
      "metadata": {
        "colab": {
          "base_uri": "https://localhost:8080/"
        },
        "id": "Y7mDF_DETQN0",
        "outputId": "0c3564b9-a1b6-4cdf-8f58-6b9d6dfaae4c"
      },
      "execution_count": 5,
      "outputs": [
        {
          "output_type": "execute_result",
          "data": {
            "text/plain": [
              "39"
            ]
          },
          "metadata": {},
          "execution_count": 5
        }
      ]
    },
    {
      "cell_type": "code",
      "source": [
        "# order of operations can be controlled with parentheses\n",
        "(3 + 6) ** 2"
      ],
      "metadata": {
        "colab": {
          "base_uri": "https://localhost:8080/"
        },
        "id": "Ds3EqyMTTiKQ",
        "outputId": "1d6f8a01-63eb-4c48-9ba5-91a8e83a990f"
      },
      "execution_count": 6,
      "outputs": [
        {
          "output_type": "execute_result",
          "data": {
            "text/plain": [
              "81"
            ]
          },
          "metadata": {},
          "execution_count": 6
        }
      ]
    },
    {
      "cell_type": "code",
      "source": [
        "4 / 2   # returns a floating-point result\n",
        "5 // 2  # returns a whole number (integer)"
      ],
      "metadata": {
        "colab": {
          "base_uri": "https://localhost:8080/"
        },
        "id": "RUMMn2QMUYXu",
        "outputId": "d201bc72-6053-43d3-8edf-d7b09da673ef"
      },
      "execution_count": 10,
      "outputs": [
        {
          "output_type": "execute_result",
          "data": {
            "text/plain": [
              "2.0"
            ]
          },
          "metadata": {},
          "execution_count": 10
        }
      ]
    },
    {
      "cell_type": "markdown",
      "source": [
        "Python has distinct operators for integer and floating-point division. Integer division is also called “floor division” because it always rounds down."
      ],
      "metadata": {
        "id": "Ov1rZnwmULlB"
      }
    },
    {
      "cell_type": "markdown",
      "source": [
        "### Strings\n",
        "\n",
        "Strings are sequences of letters delimited by single or double quotes."
      ],
      "metadata": {
        "id": "71iRybn_VU9l"
      }
    },
    {
      "cell_type": "code",
      "source": [
        "'Hello'\n",
        "\"Hello\""
      ],
      "metadata": {
        "id": "XTHKvRmWVhYn"
      },
      "execution_count": null,
      "outputs": []
    },
    {
      "cell_type": "markdown",
      "source": [
        "If a string contains the same character used for delimiter, that character must be `escaped` like so:"
      ],
      "metadata": {
        "id": "TUy0Z84eVrd-"
      }
    },
    {
      "cell_type": "code",
      "source": [
        "'Summer\\'s end'"
      ],
      "metadata": {
        "colab": {
          "base_uri": "https://localhost:8080/",
          "height": 35
        },
        "id": "zTepOUddV-6P",
        "outputId": "2ecc14da-589a-4231-8200-13e5fb5248b9"
      },
      "execution_count": 12,
      "outputs": [
        {
          "output_type": "execute_result",
          "data": {
            "text/plain": [
              "\"Summer's end\""
            ],
            "application/vnd.google.colaboratory.intrinsic+json": {
              "type": "string"
            }
          },
          "metadata": {},
          "execution_count": 12
        }
      ]
    },
    {
      "cell_type": "markdown",
      "source": [
        "Strings can be combined (`contatenated`) using a plus sign."
      ],
      "metadata": {
        "id": "YHQiYRDMWK5t"
      }
    },
    {
      "cell_type": "code",
      "source": [
        "name = \"Earl\"\n",
        "\"My name is \" + name"
      ],
      "metadata": {
        "colab": {
          "base_uri": "https://localhost:8080/",
          "height": 35
        },
        "id": "8r7E1JPnWRUZ",
        "outputId": "1ff9aacb-39ce-44fb-d445-ab211cac570a"
      },
      "execution_count": 14,
      "outputs": [
        {
          "output_type": "execute_result",
          "data": {
            "text/plain": [
              "'My name is Earl'"
            ],
            "application/vnd.google.colaboratory.intrinsic+json": {
              "type": "string"
            }
          },
          "metadata": {},
          "execution_count": 14
        }
      ]
    },
    {
      "cell_type": "markdown",
      "source": [
        "### Print command\n",
        "\n",
        "Python programs can output messages using the `print` command:"
      ],
      "metadata": {
        "id": "OyjIREBBVBSN"
      }
    },
    {
      "cell_type": "code",
      "source": [
        "print(\"hello world\")\n",
        "print(\"Hello\", \"world\") # print multiple values"
      ],
      "metadata": {
        "colab": {
          "base_uri": "https://localhost:8080/"
        },
        "id": "rZKjRnBHOzNy",
        "outputId": "39f2fb02-393d-4969-c0e6-93d395a510fc"
      },
      "execution_count": 15,
      "outputs": [
        {
          "output_type": "stream",
          "name": "stdout",
          "text": [
            "hello world\n",
            "Hello world\n"
          ]
        }
      ]
    },
    {
      "cell_type": "markdown",
      "source": [
        "The `print` command can output the result of expression evaluation:"
      ],
      "metadata": {
        "id": "gekTUlPWW9KL"
      }
    },
    {
      "cell_type": "code",
      "source": [
        "print(\"result:\", 6 + 6)\n",
        "\n",
        "name = \"Earl\"\n",
        "print(\"My name is\", name)"
      ],
      "metadata": {
        "colab": {
          "base_uri": "https://localhost:8080/"
        },
        "id": "6yS84-hWXAkW",
        "outputId": "6472e1ee-4cf7-4107-a6cf-44eaaf911b3d"
      },
      "execution_count": 17,
      "outputs": [
        {
          "output_type": "stream",
          "name": "stdout",
          "text": [
            "result: 12\n",
            "My name is Earl\n"
          ]
        }
      ]
    }
  ]
}