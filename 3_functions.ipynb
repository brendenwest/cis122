{
  "nbformat": 4,
  "nbformat_minor": 0,
  "metadata": {
    "colab": {
      "provenance": [],
      "authorship_tag": "ABX9TyNCWc8yCphyB6NQOsXwDkoF",
      "include_colab_link": true
    },
    "kernelspec": {
      "name": "python3",
      "display_name": "Python 3"
    },
    "language_info": {
      "name": "python"
    }
  },
  "cells": [
    {
      "cell_type": "markdown",
      "metadata": {
        "id": "view-in-github",
        "colab_type": "text"
      },
      "source": [
        "<a href=\"https://colab.research.google.com/github/brendenwest/cis122/blob/main/3_functions.ipynb\" target=\"_parent\"><img src=\"https://colab.research.google.com/assets/colab-badge.svg\" alt=\"Open In Colab\"/></a>"
      ]
    },
    {
      "cell_type": "markdown",
      "source": [
        "# Functions"
      ],
      "metadata": {
        "id": "ZagjHO99cn4E"
      }
    },
    {
      "cell_type": "markdown",
      "source": [
        "### Reading\n",
        "\n",
        "- https://allendowney.github.io/ThinkPython/chap03.html\n",
        "- https://www.tutorialspoint.com/python/python_functions.htm (through built-in functions)\n",
        "\n",
        "**Watch**\n",
        "- https://www.youtube.com/watch?v=qwAFL1597eM (chapter 9)\n"
      ],
      "metadata": {
        "id": "9rv2VeLLczuY"
      }
    },
    {
      "cell_type": "markdown",
      "source": [
        "### Function Syntax\n",
        "\n",
        "Functions are `named` blocks of statements designed for re-use to reduce duplication and make programs easier to read.\n",
        "\n",
        "When a function is called, the calling program suspends execution and hands control to the function. After the function completes, control returns to where the function was called.\n",
        "\n",
        "Functions contained in a `class` are called `methods`. Many built-in Python objects have methods.\n",
        "\n",
        "Python functions have this basic form - first line ends with a colon and subsequent lines are indented.\n",
        "\n",
        "```\n",
        "def <name>(<PARAMETERS>):\n",
        "  <BODY>\n",
        "  return <value>\n",
        "```\n",
        "\n",
        "- Parameters and `return` statement are optional\n",
        "- Parameters can be any valid Python data type and are treated as local variables within the function\n",
        "- Functions are `called` or `invoked`"
      ],
      "metadata": {
        "id": "meyYNAJFYh6n"
      }
    },
    {
      "cell_type": "code",
      "execution_count": 3,
      "metadata": {
        "id": "HHBzXvlrcmxr",
        "outputId": "7c55eac4-6e28-4a40-c63e-34468ad64e08",
        "colab": {
          "base_uri": "https://localhost:8080/"
        }
      },
      "outputs": [
        {
          "output_type": "stream",
          "name": "stdout",
          "text": [
            "Welcome\n"
          ]
        }
      ],
      "source": [
        "\n",
        "def printWelcome():\n",
        "   # function has no return value\n",
        "   print(\"Welcome\")\n",
        "\n",
        "printWelcome() # call or invoke the function"
      ]
    },
    {
      "cell_type": "markdown",
      "source": [
        "### Function Parameters\n",
        "\n",
        "Input parameters allow a function to behave differently for differ situations.\n",
        "\n",
        "Parameter values can be any valid Python data type.\n",
        "\n",
        "Parameter values provided to the function are available to function statements by name."
      ],
      "metadata": {
        "id": "Cz2eoIpFZYOR"
      }
    },
    {
      "cell_type": "code",
      "source": [
        "def printWelcome(name):\n",
        "   # function has no return value\n",
        "   print(\"Welcome\", name)\n",
        "\n",
        "printWelcome(\"Asha\")\n",
        "printWelcome(\"Harry\")"
      ],
      "metadata": {
        "id": "Y9afqDGsZNqx",
        "outputId": "3337be82-c35e-4ac0-dd1c-696d7b960534",
        "colab": {
          "base_uri": "https://localhost:8080/"
        }
      },
      "execution_count": 4,
      "outputs": [
        {
          "output_type": "stream",
          "name": "stdout",
          "text": [
            "Welcome Asha\n",
            "Welcome Harry\n"
          ]
        }
      ]
    },
    {
      "cell_type": "markdown",
      "source": [
        "Functions can accept multiple parameters, separated by commas.\n",
        "\n",
        "Commands invoking the function must provide values in the order expected by the function.\n",
        "\n",
        "Functions can define `default` values for input parameters."
      ],
      "metadata": {
        "id": "rkeZDArjbjZ5"
      }
    },
    {
      "cell_type": "code",
      "source": [
        "def printWelcome(name,title=\"Honorable\"):\n",
        "  print(\"Welcome\", title, name)\n",
        "\n",
        "printWelcome(\"Smith\", \"Dr.\")\n",
        "printWelcome(\"Jones\")"
      ],
      "metadata": {
        "id": "1KKFvDzBbxDU",
        "outputId": "df7c2d1a-0074-4586-e09d-bc5c556d7c5c",
        "colab": {
          "base_uri": "https://localhost:8080/"
        }
      },
      "execution_count": 7,
      "outputs": [
        {
          "output_type": "stream",
          "name": "stdout",
          "text": [
            "Welcome Dr. Smith\n",
            "Welcome Honorable Jones\n"
          ]
        }
      ]
    },
    {
      "cell_type": "markdown",
      "source": [
        "Variables created inside a function are `local` & existing only in the function."
      ],
      "metadata": {
        "id": "75Ip3xtvgC6I"
      }
    },
    {
      "cell_type": "code",
      "source": [
        "def printWelcome(name,title=\"Honorable\"):\n",
        "  print(\"Welcome\", title, name)\n",
        "\n",
        "printWelcome(\"Jones\")\n",
        "print(name) # causes error"
      ],
      "metadata": {
        "id": "BW5CbQXWgOho",
        "outputId": "8398a42a-e66f-4952-887b-3e1cefeeb945",
        "colab": {
          "base_uri": "https://localhost:8080/",
          "height": 198
        }
      },
      "execution_count": 13,
      "outputs": [
        {
          "output_type": "stream",
          "name": "stdout",
          "text": [
            "Welcome Honorable Jones\n"
          ]
        },
        {
          "output_type": "error",
          "ename": "NameError",
          "evalue": "name 'name' is not defined",
          "traceback": [
            "\u001b[0;31m---------------------------------------------------------------------------\u001b[0m",
            "\u001b[0;31mNameError\u001b[0m                                 Traceback (most recent call last)",
            "\u001b[0;32m<ipython-input-13-0d9c9d5e1278>\u001b[0m in \u001b[0;36m<cell line: 5>\u001b[0;34m()\u001b[0m\n\u001b[1;32m      3\u001b[0m \u001b[0;34m\u001b[0m\u001b[0m\n\u001b[1;32m      4\u001b[0m \u001b[0mprintWelcome\u001b[0m\u001b[0;34m(\u001b[0m\u001b[0;34m\"Jones\"\u001b[0m\u001b[0;34m)\u001b[0m\u001b[0;34m\u001b[0m\u001b[0;34m\u001b[0m\u001b[0m\n\u001b[0;32m----> 5\u001b[0;31m \u001b[0mprint\u001b[0m\u001b[0;34m(\u001b[0m\u001b[0mname\u001b[0m\u001b[0;34m)\u001b[0m \u001b[0;31m# causes error\u001b[0m\u001b[0;34m\u001b[0m\u001b[0;34m\u001b[0m\u001b[0m\n\u001b[0m",
            "\u001b[0;31mNameError\u001b[0m: name 'name' is not defined"
          ]
        }
      ]
    },
    {
      "cell_type": "markdown",
      "source": [
        "### Return Values\n",
        "\n",
        "- Functions with no return statement automatically return `None`\n",
        "- Return values are sent back to the caller, which can operate on them\n",
        "- Function code after the return statement is ignored"
      ],
      "metadata": {
        "id": "mQyTTskDc_T-"
      }
    },
    {
      "cell_type": "code",
      "source": [
        "def printWelcome():\n",
        "  print('Welcome')\n",
        "\n",
        "result = printWelcome() # result is None because function has no return value\n",
        "print(result)\n",
        "\n",
        "def greeting(name,title=\"Honorable\"):\n",
        "  return f\"Welcome {title} {name}\"\n",
        "  print(\"unreachable\")\n",
        "\n",
        "result = greeting(\"Smith\", \"Sir\")\n",
        "print(result)\n"
      ],
      "metadata": {
        "id": "JmPX84vtdUdD",
        "outputId": "47469f19-a175-4cc7-fd19-0a2ab0887e33",
        "colab": {
          "base_uri": "https://localhost:8080/"
        }
      },
      "execution_count": 9,
      "outputs": [
        {
          "output_type": "stream",
          "name": "stdout",
          "text": [
            "Welcome\n",
            "None\n",
            "Welcome Sir Smith\n"
          ]
        }
      ]
    },
    {
      "cell_type": "code",
      "source": [
        "# Python functions can return multiple values\n",
        "def numbers(x, y):\n",
        "  return x+y, x*y\n",
        "\n",
        "sum, product = numbers(3, 4)\n",
        "print(\"Sum\", sum)\n",
        "print(\"Product\", product)\n"
      ],
      "metadata": {
        "id": "5wFOsQA5e0rb",
        "outputId": "86e7d324-b2f9-477d-80b6-7a034b59c508",
        "colab": {
          "base_uri": "https://localhost:8080/"
        }
      },
      "execution_count": 11,
      "outputs": [
        {
          "output_type": "stream",
          "name": "stdout",
          "text": [
            "Sum 7\n",
            "Product 12\n"
          ]
        }
      ]
    }
  ]
}