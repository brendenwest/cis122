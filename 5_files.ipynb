{
  "nbformat": 4,
  "nbformat_minor": 0,
  "metadata": {
    "colab": {
      "provenance": [],
      "authorship_tag": "ABX9TyMa42dYl0YEmIs7biqLd/Xr",
      "include_colab_link": true
    },
    "kernelspec": {
      "name": "python3",
      "display_name": "Python 3"
    },
    "language_info": {
      "name": "python"
    }
  },
  "cells": [
    {
      "cell_type": "markdown",
      "metadata": {
        "id": "view-in-github",
        "colab_type": "text"
      },
      "source": [
        "<a href=\"https://colab.research.google.com/github/brendenwest/cis122/blob/main/5_files.ipynb\" target=\"_parent\"><img src=\"https://colab.research.google.com/assets/colab-badge.svg\" alt=\"Open In Colab\"/></a>"
      ]
    },
    {
      "cell_type": "markdown",
      "source": [
        "# File Processing"
      ],
      "metadata": {
        "id": "U5VrmiDWuqme"
      }
    },
    {
      "cell_type": "markdown",
      "source": [
        "### Reading\n",
        "\n",
        "- https://www.tutorialspoint.com/python/python_file_handling.htm"
      ],
      "metadata": {
        "id": "_oAmcWfbuk8-"
      }
    },
    {
      "cell_type": "markdown",
      "source": [
        "Python programs can read and write files.\n",
        "\n",
        "- File contents are large strings\n",
        "- Lines in a file each end with a `newline` ( \\n ) character\n",
        "- Files must be opened before programs can read from or write to them, like so:\n",
        "```\n",
        "myFile = open('myfile.txt', 'r') # open file for read operations\n",
        "```\n",
        "- After completing read/write operations, the file should be closed\n",
        "- file name must include it's location relative to the current program, or an absolute file path."
      ],
      "metadata": {
        "id": "l2EXO6y-rDms"
      }
    },
    {
      "cell_type": "markdown",
      "source": [
        "### Writing Files\n",
        "\n",
        "Opening a file for writing prepares it to receive data.\n",
        "\n",
        "This step creates a file if one doesn’t exist and overwrites any existing file contents."
      ],
      "metadata": {
        "id": "A-fwaMTOrzXZ"
      }
    },
    {
      "cell_type": "code",
      "source": [
        "outFile = open('./myfile.txt', 'w')\n",
        "print('line 1 written to file', file=outFile)\n",
        "print('line 2 written to file', file=outFile)"
      ],
      "metadata": {
        "id": "_Zl9WARZsFu_"
      },
      "execution_count": 7,
      "outputs": []
    },
    {
      "cell_type": "markdown",
      "source": [
        "### Reading Files\n",
        "\n",
        "Programs can read files several different ways.\n",
        "\n",
        "- <file>.read() - reads entire file into a string\n",
        "- <file>.readlines() - returns a list of lines from the file\n",
        "- <file>.readline() - returns the next line as a string. Moves `pointer` so subsequent commands operate only on remaining lines. Programs can iterate through all lines in a file:"
      ],
      "metadata": {
        "id": "FoXlGKM5rxUm"
      }
    },
    {
      "cell_type": "code",
      "source": [
        "fulltext = open('./myfile.txt', 'r').read()\n",
        "print(\"full text\", fulltext)\n",
        "\n",
        "lines = open('./myfile.txt', 'r').readlines()\n",
        "print(\"all lines\", lines)\n",
        "for num, line in enumerate(lines):\n",
        "  print(num, line)"
      ],
      "metadata": {
        "colab": {
          "base_uri": "https://localhost:8080/"
        },
        "id": "wedv55WJtC44",
        "outputId": "47711e9f-fe5d-4fa7-f5ee-2b764bfa008e"
      },
      "execution_count": 9,
      "outputs": [
        {
          "output_type": "stream",
          "name": "stdout",
          "text": [
            "full text line 1 writing to file\n",
            "line 2 writing to file\n",
            "\n",
            "all lines ['line 1 writing to file\\n', 'line 2 writing to file\\n']\n",
            "0 line 1 writing to file\n",
            "\n",
            "1 line 2 writing to file\n",
            "\n"
          ]
        }
      ]
    }
  ]
}