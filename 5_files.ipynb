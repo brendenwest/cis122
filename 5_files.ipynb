{
  "nbformat": 4,
  "nbformat_minor": 0,
  "metadata": {
    "colab": {
      "provenance": [],
      "authorship_tag": "ABX9TyNouBR9XAQ/g8281f7Vdq/u",
      "include_colab_link": true
    },
    "kernelspec": {
      "name": "python3",
      "display_name": "Python 3"
    },
    "language_info": {
      "name": "python"
    }
  },
  "cells": [
    {
      "cell_type": "markdown",
      "metadata": {
        "id": "view-in-github",
        "colab_type": "text"
      },
      "source": [
        "<a href=\"https://colab.research.google.com/github/brendenwest/cis122/blob/main/5_files.ipynb\" target=\"_parent\"><img src=\"https://colab.research.google.com/assets/colab-badge.svg\" alt=\"Open In Colab\"/></a>"
      ]
    },
    {
      "cell_type": "markdown",
      "source": [
        "# File Processing"
      ],
      "metadata": {
        "id": "U5VrmiDWuqme"
      }
    },
    {
      "cell_type": "markdown",
      "source": [
        "### Reading\n",
        "\n",
        "- https://www.tutorialspoint.com/python/python_file_handling.htm\n",
        "- https://www.tutorialspoint.com/python/python_string_methods.htm"
      ],
      "metadata": {
        "id": "_oAmcWfbuk8-"
      }
    },
    {
      "cell_type": "markdown",
      "source": [
        "Python programs can read and write files.\n",
        "\n",
        "- File contents are large strings\n",
        "- Lines in a file each end with a `newline` ( \\n ) character\n",
        "- Files must be opened before programs can read from or write to them, like so:\n",
        "```\n",
        "myFile = open('myfile.txt', 'r') # open file for read operations\n",
        "```\n",
        "- After completing read/write operations, the file should be closed\n",
        "- file name must include it's location relative to the current program, or an absolute file path."
      ],
      "metadata": {
        "id": "l2EXO6y-rDms"
      }
    },
    {
      "cell_type": "markdown",
      "source": [
        "### Writing Files\n",
        "\n",
        "Opening a file for writing prepares it to receive data.\n",
        "\n",
        "This step creates a file if one doesn’t exist and overwrites any existing file contents."
      ],
      "metadata": {
        "id": "A-fwaMTOrzXZ"
      }
    },
    {
      "cell_type": "code",
      "source": [
        "outFile = open('./myfile.txt', 'w')\n",
        "print('line 1 written to file', file=outFile)\n",
        "print('line 2 written to file', file=outFile)"
      ],
      "metadata": {
        "id": "_Zl9WARZsFu_"
      },
      "execution_count": 3,
      "outputs": []
    },
    {
      "cell_type": "markdown",
      "source": [
        "### Reading Files\n",
        "\n",
        "Programs can read files several different ways.\n",
        "\n",
        "- <file>.read() - reads entire file into a string\n",
        "- <file>.readlines() - returns a list of lines from the file\n",
        "- <file>.readline() - returns the next line as a string. Moves `pointer` so subsequent commands operate only on remaining lines. Programs can iterate through all lines in a file:"
      ],
      "metadata": {
        "id": "FoXlGKM5rxUm"
      }
    },
    {
      "cell_type": "code",
      "source": [
        "fulltext = open('./myfile.txt', 'r').read()\n",
        "print(\"full text\\n\", fulltext)\n",
        "\n",
        "lines = open('./myfile.txt', 'r').readlines()\n",
        "print(\"all lines\\n\", lines)\n",
        "for num, line in enumerate(lines):\n",
        "  print(num, line)"
      ],
      "metadata": {
        "colab": {
          "base_uri": "https://localhost:8080/"
        },
        "id": "wedv55WJtC44",
        "outputId": "4f9a10a5-4aaf-4207-faef-fdae2fcf946e"
      },
      "execution_count": 6,
      "outputs": [
        {
          "output_type": "stream",
          "name": "stdout",
          "text": [
            "full text\n",
            " line 1 written to file\n",
            "line 2 written to file\n",
            "\n",
            "all lines\n",
            " ['line 1 written to file\\n', 'line 2 written to file\\n']\n",
            "0 line 1 written to file\n",
            "\n",
            "1 line 2 written to file\n",
            "\n"
          ]
        }
      ]
    },
    {
      "cell_type": "code",
      "source": [
        "infile = open('./myfile.txt', 'r')\n",
        "while line := infile.readline():\n",
        "  print(line)"
      ],
      "metadata": {
        "colab": {
          "base_uri": "https://localhost:8080/"
        },
        "id": "m7R9kIZj5nv1",
        "outputId": "b88c42cb-f623-421f-8d7c-1ec1250b2ed1"
      },
      "execution_count": 7,
      "outputs": [
        {
          "output_type": "stream",
          "name": "stdout",
          "text": [
            "line 1 written to file\n",
            "\n",
            "line 2 written to file\n",
            "\n"
          ]
        }
      ]
    },
    {
      "cell_type": "code",
      "source": [
        "line = 'line 1 written to file\\n'.strip()\n",
        "print(line)\n",
        "words = line.split(\" \")\n",
        "print(words)\n",
        "print(len(words))"
      ],
      "metadata": {
        "id": "BnMXfplt6thK",
        "outputId": "57bc2f82-4133-4386-b570-1d7f6aa202f1",
        "colab": {
          "base_uri": "https://localhost:8080/"
        }
      },
      "execution_count": 12,
      "outputs": [
        {
          "output_type": "stream",
          "name": "stdout",
          "text": [
            "line 1 written to file\n",
            "['line', '1', 'written', 'to', 'file']\n",
            "5\n"
          ]
        }
      ]
    },
    {
      "cell_type": "code",
      "source": [
        "line = 'line 1 written to file\\n'.strip()\n",
        "word = \"1234567890\"\n",
        "print(word.count(\"3\"))"
      ],
      "metadata": {
        "id": "FzNVioKD7oAl",
        "outputId": "3338393e-3779-4202-9303-42c72a16ed5d",
        "colab": {
          "base_uri": "https://localhost:8080/"
        }
      },
      "execution_count": 25,
      "outputs": [
        {
          "output_type": "stream",
          "name": "stdout",
          "text": [
            "1\n"
          ]
        }
      ]
    }
  ]
}